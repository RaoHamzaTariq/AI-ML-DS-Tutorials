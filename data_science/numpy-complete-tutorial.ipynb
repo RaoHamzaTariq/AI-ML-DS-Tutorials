{
 "cells": [
  {
   "cell_type": "code",
   "execution_count": 1,
   "id": "a0f44ab5",
   "metadata": {
    "_cell_guid": "b1076dfc-b9ad-4769-8c92-a6c4dae69d19",
    "_uuid": "8f2839f25d086af736a60e9eeb907d3b93b6e0e5",
    "execution": {
     "iopub.execute_input": "2023-11-02T17:21:06.562028Z",
     "iopub.status.busy": "2023-11-02T17:21:06.560817Z",
     "iopub.status.idle": "2023-11-02T17:21:06.984549Z",
     "shell.execute_reply": "2023-11-02T17:21:06.983255Z"
    },
    "papermill": {
     "duration": 0.449017,
     "end_time": "2023-11-02T17:21:06.987283",
     "exception": false,
     "start_time": "2023-11-02T17:21:06.538266",
     "status": "completed"
    },
    "tags": []
   },
   "outputs": [],
   "source": [
    "# This Python 3 environment comes with many helpful analytics libraries installed\n",
    "# It is defined by the kaggle/python Docker image: https://github.com/kaggle/docker-python\n",
    "# For example, here's several helpful packages to load\n",
    "\n",
    "import numpy as np # linear algebra\n",
    "import pandas as pd # data processing, CSV file I/O (e.g. pd.read_csv)\n",
    "\n",
    "# Input data files are available in the read-only \"../input/\" directory\n",
    "# For example, running this (by clicking run or pressing Shift+Enter) will list all files under the input directory\n",
    "\n",
    "import os\n",
    "#for dirname, _, filenames in os.walk('/kaggle/input'):\n",
    "  #  for filename in filenames:\n",
    "    #    print(os.path.join(dirname, filename))\n",
    "\n",
    "# You can write up to 20GB to the current directory (/kaggle/working/) that gets preserved as output when you create a version using \"Save & Run All\" \n",
    "# You can also write temporary files to /kaggle/temp/, but they won't be saved outside of the current session"
   ]
  },
  {
   "cell_type": "code",
   "execution_count": 2,
   "id": "03db0ee7",
   "metadata": {
    "execution": {
     "iopub.execute_input": "2023-11-02T17:21:07.033670Z",
     "iopub.status.busy": "2023-11-02T17:21:07.033011Z",
     "iopub.status.idle": "2023-11-02T17:21:07.039040Z",
     "shell.execute_reply": "2023-11-02T17:21:07.037764Z"
    },
    "papermill": {
     "duration": 0.032307,
     "end_time": "2023-11-02T17:21:07.042263",
     "exception": false,
     "start_time": "2023-11-02T17:21:07.009956",
     "status": "completed"
    },
    "tags": []
   },
   "outputs": [],
   "source": [
    "import numpy as np\n",
    "import pandas as pd"
   ]
  },
  {
   "cell_type": "code",
   "execution_count": 3,
   "id": "2342eec5",
   "metadata": {
    "execution": {
     "iopub.execute_input": "2023-11-02T17:21:07.088424Z",
     "iopub.status.busy": "2023-11-02T17:21:07.088000Z",
     "iopub.status.idle": "2023-11-02T17:21:07.096977Z",
     "shell.execute_reply": "2023-11-02T17:21:07.095822Z"
    },
    "papermill": {
     "duration": 0.033026,
     "end_time": "2023-11-02T17:21:07.098947",
     "exception": false,
     "start_time": "2023-11-02T17:21:07.065921",
     "status": "completed"
    },
    "tags": []
   },
   "outputs": [
    {
     "data": {
      "text/plain": [
       "array([10,  2,  3])"
      ]
     },
     "execution_count": 3,
     "metadata": {},
     "output_type": "execute_result"
    }
   ],
   "source": [
    "# 1D Array = Vector\n",
    "a1d= np.array([10,2,3])\n",
    "a1d"
   ]
  },
  {
   "cell_type": "code",
   "execution_count": 4,
   "id": "facf1e53",
   "metadata": {
    "execution": {
     "iopub.execute_input": "2023-11-02T17:21:07.143675Z",
     "iopub.status.busy": "2023-11-02T17:21:07.143212Z",
     "iopub.status.idle": "2023-11-02T17:21:07.150708Z",
     "shell.execute_reply": "2023-11-02T17:21:07.149109Z"
    },
    "papermill": {
     "duration": 0.033273,
     "end_time": "2023-11-02T17:21:07.153326",
     "exception": false,
     "start_time": "2023-11-02T17:21:07.120053",
     "status": "completed"
    },
    "tags": []
   },
   "outputs": [
    {
     "data": {
      "text/plain": [
       "numpy.ndarray"
      ]
     },
     "execution_count": 4,
     "metadata": {},
     "output_type": "execute_result"
    }
   ],
   "source": [
    "type(a1d)"
   ]
  },
  {
   "cell_type": "code",
   "execution_count": 5,
   "id": "a0e22b9d",
   "metadata": {
    "execution": {
     "iopub.execute_input": "2023-11-02T17:21:07.200388Z",
     "iopub.status.busy": "2023-11-02T17:21:07.199983Z",
     "iopub.status.idle": "2023-11-02T17:21:07.206832Z",
     "shell.execute_reply": "2023-11-02T17:21:07.205666Z"
    },
    "papermill": {
     "duration": 0.033236,
     "end_time": "2023-11-02T17:21:07.209413",
     "exception": false,
     "start_time": "2023-11-02T17:21:07.176177",
     "status": "completed"
    },
    "tags": []
   },
   "outputs": [
    {
     "data": {
      "text/plain": [
       "array([[1, 2, 3],\n",
       "       [4, 5, 6]])"
      ]
     },
     "execution_count": 5,
     "metadata": {},
     "output_type": "execute_result"
    }
   ],
   "source": [
    "# 2D Array = Matrix\n",
    "a2d= np.array([[1,2,3],[4,5,6]])\n",
    "a2d"
   ]
  },
  {
   "cell_type": "code",
   "execution_count": 6,
   "id": "79e9065b",
   "metadata": {
    "execution": {
     "iopub.execute_input": "2023-11-02T17:21:07.332109Z",
     "iopub.status.busy": "2023-11-02T17:21:07.331644Z",
     "iopub.status.idle": "2023-11-02T17:21:07.341350Z",
     "shell.execute_reply": "2023-11-02T17:21:07.340187Z"
    },
    "papermill": {
     "duration": 0.109803,
     "end_time": "2023-11-02T17:21:07.343666",
     "exception": false,
     "start_time": "2023-11-02T17:21:07.233863",
     "status": "completed"
    },
    "tags": []
   },
   "outputs": [
    {
     "data": {
      "text/plain": [
       "array([[[1.1, 2. , 3. ],\n",
       "        [4. , 5. , 6. ],\n",
       "        [7. , 8. , 9. ]],\n",
       "\n",
       "       [[1. , 2. , 3. ],\n",
       "        [4. , 5. , 6. ],\n",
       "        [7. , 8. , 9. ]]])"
      ]
     },
     "execution_count": 6,
     "metadata": {},
     "output_type": "execute_result"
    }
   ],
   "source": [
    "# 3D Array = Matrix\n",
    "a3d= np.array([[[1.1,2,3],[4,5,6],[7,8,9]],[[1,2,3],[4,5,6],[7,8,9]]])\n",
    "a3d"
   ]
  },
  {
   "cell_type": "code",
   "execution_count": 7,
   "id": "8b7acdcf",
   "metadata": {
    "execution": {
     "iopub.execute_input": "2023-11-02T17:21:07.393806Z",
     "iopub.status.busy": "2023-11-02T17:21:07.392909Z",
     "iopub.status.idle": "2023-11-02T17:21:07.399701Z",
     "shell.execute_reply": "2023-11-02T17:21:07.397817Z"
    },
    "papermill": {
     "duration": 0.034161,
     "end_time": "2023-11-02T17:21:07.402607",
     "exception": false,
     "start_time": "2023-11-02T17:21:07.368446",
     "status": "completed"
    },
    "tags": []
   },
   "outputs": [
    {
     "name": "stdout",
     "output_type": "stream",
     "text": [
      "(2, 3, 3)\n",
      "(2, 3)\n",
      "(3,)\n"
     ]
    }
   ],
   "source": [
    "print(a3d.shape)\n",
    "print(a2d.shape)\n",
    "print(a1d.shape)"
   ]
  },
  {
   "cell_type": "code",
   "execution_count": 8,
   "id": "919dd4e8",
   "metadata": {
    "execution": {
     "iopub.execute_input": "2023-11-02T17:21:07.451572Z",
     "iopub.status.busy": "2023-11-02T17:21:07.451001Z",
     "iopub.status.idle": "2023-11-02T17:21:07.458040Z",
     "shell.execute_reply": "2023-11-02T17:21:07.456575Z"
    },
    "papermill": {
     "duration": 0.034404,
     "end_time": "2023-11-02T17:21:07.460706",
     "exception": false,
     "start_time": "2023-11-02T17:21:07.426302",
     "status": "completed"
    },
    "tags": []
   },
   "outputs": [
    {
     "data": {
      "text/plain": [
       "3"
      ]
     },
     "execution_count": 8,
     "metadata": {},
     "output_type": "execute_result"
    }
   ],
   "source": [
    "a3d.ndim"
   ]
  },
  {
   "cell_type": "markdown",
   "id": "338c23b8",
   "metadata": {
    "execution": {
     "iopub.execute_input": "2023-10-31T06:20:48.595255Z",
     "iopub.status.busy": "2023-10-31T06:20:48.594310Z",
     "iopub.status.idle": "2023-10-31T06:20:48.600955Z",
     "shell.execute_reply": "2023-10-31T06:20:48.599816Z",
     "shell.execute_reply.started": "2023-10-31T06:20:48.595215Z"
    },
    "papermill": {
     "duration": 0.023234,
     "end_time": "2023-11-02T17:21:07.507645",
     "exception": false,
     "start_time": "2023-11-02T17:21:07.484411",
     "status": "completed"
    },
    "tags": []
   },
   "source": [
    "# Float is prefareable than integer"
   ]
  },
  {
   "cell_type": "code",
   "execution_count": 9,
   "id": "53181037",
   "metadata": {
    "execution": {
     "iopub.execute_input": "2023-11-02T17:21:07.560011Z",
     "iopub.status.busy": "2023-11-02T17:21:07.558875Z",
     "iopub.status.idle": "2023-11-02T17:21:07.567763Z",
     "shell.execute_reply": "2023-11-02T17:21:07.566303Z"
    },
    "papermill": {
     "duration": 0.037309,
     "end_time": "2023-11-02T17:21:07.570595",
     "exception": false,
     "start_time": "2023-11-02T17:21:07.533286",
     "status": "completed"
    },
    "tags": []
   },
   "outputs": [
    {
     "data": {
      "text/plain": [
       "18"
      ]
     },
     "execution_count": 9,
     "metadata": {},
     "output_type": "execute_result"
    }
   ],
   "source": [
    "a3d.size"
   ]
  },
  {
   "cell_type": "code",
   "execution_count": 10,
   "id": "32d6d222",
   "metadata": {
    "execution": {
     "iopub.execute_input": "2023-11-02T17:21:07.618688Z",
     "iopub.status.busy": "2023-11-02T17:21:07.618276Z",
     "iopub.status.idle": "2023-11-02T17:21:07.635686Z",
     "shell.execute_reply": "2023-11-02T17:21:07.634509Z"
    },
    "papermill": {
     "duration": 0.044762,
     "end_time": "2023-11-02T17:21:07.638192",
     "exception": false,
     "start_time": "2023-11-02T17:21:07.593430",
     "status": "completed"
    },
    "tags": []
   },
   "outputs": [
    {
     "data": {
      "text/html": [
       "<div>\n",
       "<style scoped>\n",
       "    .dataframe tbody tr th:only-of-type {\n",
       "        vertical-align: middle;\n",
       "    }\n",
       "\n",
       "    .dataframe tbody tr th {\n",
       "        vertical-align: top;\n",
       "    }\n",
       "\n",
       "    .dataframe thead th {\n",
       "        text-align: right;\n",
       "    }\n",
       "</style>\n",
       "<table border=\"1\" class=\"dataframe\">\n",
       "  <thead>\n",
       "    <tr style=\"text-align: right;\">\n",
       "      <th></th>\n",
       "      <th>0</th>\n",
       "      <th>1</th>\n",
       "      <th>2</th>\n",
       "    </tr>\n",
       "  </thead>\n",
       "  <tbody>\n",
       "    <tr>\n",
       "      <th>0</th>\n",
       "      <td>1</td>\n",
       "      <td>2</td>\n",
       "      <td>3</td>\n",
       "    </tr>\n",
       "    <tr>\n",
       "      <th>1</th>\n",
       "      <td>4</td>\n",
       "      <td>5</td>\n",
       "      <td>6</td>\n",
       "    </tr>\n",
       "  </tbody>\n",
       "</table>\n",
       "</div>"
      ],
      "text/plain": [
       "   0  1  2\n",
       "0  1  2  3\n",
       "1  4  5  6"
      ]
     },
     "execution_count": 10,
     "metadata": {},
     "output_type": "execute_result"
    }
   ],
   "source": [
    "df = pd.DataFrame(a2d)\n",
    "df"
   ]
  },
  {
   "cell_type": "markdown",
   "id": "38bdd642",
   "metadata": {
    "papermill": {
     "duration": 0.021832,
     "end_time": "2023-11-02T17:21:07.681750",
     "exception": false,
     "start_time": "2023-11-02T17:21:07.659918",
     "status": "completed"
    },
    "tags": []
   },
   "source": [
    "# Creating Numpy Array \n"
   ]
  },
  {
   "cell_type": "code",
   "execution_count": 11,
   "id": "e57f073e",
   "metadata": {
    "execution": {
     "iopub.execute_input": "2023-11-02T17:21:07.728576Z",
     "iopub.status.busy": "2023-11-02T17:21:07.728203Z",
     "iopub.status.idle": "2023-11-02T17:21:07.735695Z",
     "shell.execute_reply": "2023-11-02T17:21:07.734259Z"
    },
    "papermill": {
     "duration": 0.032595,
     "end_time": "2023-11-02T17:21:07.737928",
     "exception": false,
     "start_time": "2023-11-02T17:21:07.705333",
     "status": "completed"
    },
    "tags": []
   },
   "outputs": [
    {
     "data": {
      "text/plain": [
       "array([1, 2, 3])"
      ]
     },
     "execution_count": 11,
     "metadata": {},
     "output_type": "execute_result"
    }
   ],
   "source": [
    "test_array= np.array([1,2,3])\n",
    "test_array"
   ]
  },
  {
   "cell_type": "markdown",
   "id": "7e7bb877",
   "metadata": {
    "papermill": {
     "duration": 0.02122,
     "end_time": "2023-11-02T17:21:07.781415",
     "exception": false,
     "start_time": "2023-11-02T17:21:07.760195",
     "status": "completed"
    },
    "tags": []
   },
   "source": [
    " * 1.Zero  \n",
    " * 2.Ones\n",
    " * 3.Randoms"
   ]
  },
  {
   "cell_type": "code",
   "execution_count": 12,
   "id": "f06a1523",
   "metadata": {
    "execution": {
     "iopub.execute_input": "2023-11-02T17:21:07.826513Z",
     "iopub.status.busy": "2023-11-02T17:21:07.826099Z",
     "iopub.status.idle": "2023-11-02T17:21:07.833352Z",
     "shell.execute_reply": "2023-11-02T17:21:07.832228Z"
    },
    "papermill": {
     "duration": 0.031986,
     "end_time": "2023-11-02T17:21:07.835659",
     "exception": false,
     "start_time": "2023-11-02T17:21:07.803673",
     "status": "completed"
    },
    "tags": []
   },
   "outputs": [
    {
     "data": {
      "text/plain": [
       "array([[1., 1., 1.],\n",
       "       [1., 1., 1.]])"
      ]
     },
     "execution_count": 12,
     "metadata": {},
     "output_type": "execute_result"
    }
   ],
   "source": [
    "ones= np.ones((2,3))\n",
    "ones"
   ]
  },
  {
   "cell_type": "code",
   "execution_count": 13,
   "id": "9d9a9755",
   "metadata": {
    "execution": {
     "iopub.execute_input": "2023-11-02T17:21:07.882533Z",
     "iopub.status.busy": "2023-11-02T17:21:07.882170Z",
     "iopub.status.idle": "2023-11-02T17:21:07.888531Z",
     "shell.execute_reply": "2023-11-02T17:21:07.887643Z"
    },
    "papermill": {
     "duration": 0.032826,
     "end_time": "2023-11-02T17:21:07.890657",
     "exception": false,
     "start_time": "2023-11-02T17:21:07.857831",
     "status": "completed"
    },
    "tags": []
   },
   "outputs": [
    {
     "data": {
      "text/plain": [
       "array([[0., 0., 0.],\n",
       "       [0., 0., 0.]])"
      ]
     },
     "execution_count": 13,
     "metadata": {},
     "output_type": "execute_result"
    }
   ],
   "source": [
    "zeros= np.zeros((2,3))\n",
    "zeros"
   ]
  },
  {
   "cell_type": "code",
   "execution_count": 14,
   "id": "1aca1f03",
   "metadata": {
    "execution": {
     "iopub.execute_input": "2023-11-02T17:21:07.936332Z",
     "iopub.status.busy": "2023-11-02T17:21:07.935908Z",
     "iopub.status.idle": "2023-11-02T17:21:07.943508Z",
     "shell.execute_reply": "2023-11-02T17:21:07.942336Z"
    },
    "papermill": {
     "duration": 0.032635,
     "end_time": "2023-11-02T17:21:07.945744",
     "exception": false,
     "start_time": "2023-11-02T17:21:07.913109",
     "status": "completed"
    },
    "tags": []
   },
   "outputs": [
    {
     "data": {
      "text/plain": [
       "array([0, 2, 4, 6, 8])"
      ]
     },
     "execution_count": 14,
     "metadata": {},
     "output_type": "execute_result"
    }
   ],
   "source": [
    "range_array = np.arange(0,10,2)\n",
    "range_array"
   ]
  },
  {
   "cell_type": "code",
   "execution_count": 15,
   "id": "1d35e07a",
   "metadata": {
    "execution": {
     "iopub.execute_input": "2023-11-02T17:21:07.993813Z",
     "iopub.status.busy": "2023-11-02T17:21:07.993123Z",
     "iopub.status.idle": "2023-11-02T17:21:08.002859Z",
     "shell.execute_reply": "2023-11-02T17:21:08.001250Z"
    },
    "papermill": {
     "duration": 0.037617,
     "end_time": "2023-11-02T17:21:08.005739",
     "exception": false,
     "start_time": "2023-11-02T17:21:07.968122",
     "status": "completed"
    },
    "tags": []
   },
   "outputs": [
    {
     "data": {
      "text/plain": [
       "array([[1, 9, 0, 4, 2],\n",
       "       [6, 9, 7, 4, 3],\n",
       "       [9, 8, 7, 2, 5]])"
      ]
     },
     "execution_count": 15,
     "metadata": {},
     "output_type": "execute_result"
    }
   ],
   "source": [
    "random_matrix = np.random.randint(0,10,size=(3,5))\n",
    "random_matrix"
   ]
  },
  {
   "cell_type": "code",
   "execution_count": 16,
   "id": "25e62d04",
   "metadata": {
    "execution": {
     "iopub.execute_input": "2023-11-02T17:21:08.051318Z",
     "iopub.status.busy": "2023-11-02T17:21:08.050935Z",
     "iopub.status.idle": "2023-11-02T17:21:08.056031Z",
     "shell.execute_reply": "2023-11-02T17:21:08.054992Z"
    },
    "papermill": {
     "duration": 0.030373,
     "end_time": "2023-11-02T17:21:08.058214",
     "exception": false,
     "start_time": "2023-11-02T17:21:08.027841",
     "status": "completed"
    },
    "tags": []
   },
   "outputs": [
    {
     "name": "stdout",
     "output_type": "stream",
     "text": [
      "15\n",
      "(3, 5)\n"
     ]
    }
   ],
   "source": [
    "print(random_matrix.size)\n",
    "print(random_matrix.shape)"
   ]
  },
  {
   "cell_type": "code",
   "execution_count": 17,
   "id": "6fddc8dc",
   "metadata": {
    "execution": {
     "iopub.execute_input": "2023-11-02T17:21:08.104708Z",
     "iopub.status.busy": "2023-11-02T17:21:08.104315Z",
     "iopub.status.idle": "2023-11-02T17:21:08.112494Z",
     "shell.execute_reply": "2023-11-02T17:21:08.111301Z"
    },
    "papermill": {
     "duration": 0.033876,
     "end_time": "2023-11-02T17:21:08.114663",
     "exception": false,
     "start_time": "2023-11-02T17:21:08.080787",
     "status": "completed"
    },
    "tags": []
   },
   "outputs": [
    {
     "data": {
      "text/plain": [
       "array([[0.53831247, 0.89675542, 0.28289588, 0.27802154, 0.16149408],\n",
       "       [0.09914347, 0.87659746, 0.85343985, 0.04785941, 0.04346859],\n",
       "       [0.94296676, 0.65817683, 0.50528452, 0.41061786, 0.07278872]])"
      ]
     },
     "execution_count": 17,
     "metadata": {},
     "output_type": "execute_result"
    }
   ],
   "source": [
    "rand_matrix = np.random.rand(3,5) # Auto range 0-1\n",
    "rand_matrix"
   ]
  },
  {
   "cell_type": "code",
   "execution_count": 18,
   "id": "77790b87",
   "metadata": {
    "execution": {
     "iopub.execute_input": "2023-11-02T17:21:08.161235Z",
     "iopub.status.busy": "2023-11-02T17:21:08.160828Z",
     "iopub.status.idle": "2023-11-02T17:21:08.167560Z",
     "shell.execute_reply": "2023-11-02T17:21:08.166353Z"
    },
    "papermill": {
     "duration": 0.032976,
     "end_time": "2023-11-02T17:21:08.169761",
     "exception": false,
     "start_time": "2023-11-02T17:21:08.136785",
     "status": "completed"
    },
    "tags": []
   },
   "outputs": [
    {
     "data": {
      "text/plain": [
       "6.66782284469668"
      ]
     },
     "execution_count": 18,
     "metadata": {},
     "output_type": "execute_result"
    }
   ],
   "source": [
    "rand_matrix.sum()"
   ]
  },
  {
   "cell_type": "markdown",
   "id": "96e64485",
   "metadata": {
    "papermill": {
     "duration": 0.024573,
     "end_time": "2023-11-02T17:21:08.219404",
     "exception": false,
     "start_time": "2023-11-02T17:21:08.194831",
     "status": "completed"
    },
    "tags": []
   },
   "source": [
    "# Seed"
   ]
  },
  {
   "cell_type": "code",
   "execution_count": 19,
   "id": "74a0efda",
   "metadata": {
    "execution": {
     "iopub.execute_input": "2023-11-02T17:21:08.267577Z",
     "iopub.status.busy": "2023-11-02T17:21:08.267161Z",
     "iopub.status.idle": "2023-11-02T17:21:08.275130Z",
     "shell.execute_reply": "2023-11-02T17:21:08.273752Z"
    },
    "papermill": {
     "duration": 0.034859,
     "end_time": "2023-11-02T17:21:08.277551",
     "exception": false,
     "start_time": "2023-11-02T17:21:08.242692",
     "status": "completed"
    },
    "tags": []
   },
   "outputs": [
    {
     "data": {
      "text/plain": [
       "array([[0.5488135 , 0.71518937, 0.60276338, 0.54488318, 0.4236548 ],\n",
       "       [0.64589411, 0.43758721, 0.891773  , 0.96366276, 0.38344152],\n",
       "       [0.79172504, 0.52889492, 0.56804456, 0.92559664, 0.07103606]])"
      ]
     },
     "execution_count": 19,
     "metadata": {},
     "output_type": "execute_result"
    }
   ],
   "source": [
    "np.random.seed(seed=0)\n",
    "Rand_matrix = np.random.rand(3,5)\n",
    "Rand_matrix"
   ]
  },
  {
   "cell_type": "code",
   "execution_count": 20,
   "id": "d502da01",
   "metadata": {
    "execution": {
     "iopub.execute_input": "2023-11-02T17:21:08.324702Z",
     "iopub.status.busy": "2023-11-02T17:21:08.324319Z",
     "iopub.status.idle": "2023-11-02T17:21:08.331731Z",
     "shell.execute_reply": "2023-11-02T17:21:08.330508Z"
    },
    "papermill": {
     "duration": 0.033876,
     "end_time": "2023-11-02T17:21:08.333881",
     "exception": false,
     "start_time": "2023-11-02T17:21:08.300005",
     "status": "completed"
    },
    "tags": []
   },
   "outputs": [
    {
     "data": {
      "text/plain": [
       "0.6028640032376982"
      ]
     },
     "execution_count": 20,
     "metadata": {},
     "output_type": "execute_result"
    }
   ],
   "source": [
    "Rand_matrix.mean()"
   ]
  },
  {
   "cell_type": "markdown",
   "id": "aac553b0",
   "metadata": {
    "papermill": {
     "duration": 0.02456,
     "end_time": "2023-11-02T17:21:08.381691",
     "exception": false,
     "start_time": "2023-11-02T17:21:08.357131",
     "status": "completed"
    },
    "tags": []
   },
   "source": [
    "# Accessing elements"
   ]
  },
  {
   "cell_type": "code",
   "execution_count": 21,
   "id": "6af0f2e1",
   "metadata": {
    "execution": {
     "iopub.execute_input": "2023-11-02T17:21:08.429543Z",
     "iopub.status.busy": "2023-11-02T17:21:08.429158Z",
     "iopub.status.idle": "2023-11-02T17:21:08.436018Z",
     "shell.execute_reply": "2023-11-02T17:21:08.434558Z"
    },
    "papermill": {
     "duration": 0.032927,
     "end_time": "2023-11-02T17:21:08.438425",
     "exception": false,
     "start_time": "2023-11-02T17:21:08.405498",
     "status": "completed"
    },
    "tags": []
   },
   "outputs": [
    {
     "name": "stdout",
     "output_type": "stream",
     "text": [
      "[[[1.1 2.  3. ]\n",
      "  [4.  5.  6. ]\n",
      "  [7.  8.  9. ]]\n",
      "\n",
      " [[1.  2.  3. ]\n",
      "  [4.  5.  6. ]\n",
      "  [7.  8.  9. ]]]\n",
      "[[1 2 3]\n",
      " [4 5 6]]\n"
     ]
    }
   ],
   "source": [
    "print(a3d)\n",
    "print(a2d)"
   ]
  },
  {
   "cell_type": "code",
   "execution_count": 22,
   "id": "5354f7ce",
   "metadata": {
    "execution": {
     "iopub.execute_input": "2023-11-02T17:21:08.486046Z",
     "iopub.status.busy": "2023-11-02T17:21:08.485657Z",
     "iopub.status.idle": "2023-11-02T17:21:08.492948Z",
     "shell.execute_reply": "2023-11-02T17:21:08.491686Z"
    },
    "papermill": {
     "duration": 0.034661,
     "end_time": "2023-11-02T17:21:08.495325",
     "exception": false,
     "start_time": "2023-11-02T17:21:08.460664",
     "status": "completed"
    },
    "tags": []
   },
   "outputs": [
    {
     "data": {
      "text/plain": [
       "array([1, 2, 3])"
      ]
     },
     "execution_count": 22,
     "metadata": {},
     "output_type": "execute_result"
    }
   ],
   "source": [
    "a2d[0]"
   ]
  },
  {
   "cell_type": "code",
   "execution_count": 23,
   "id": "56da5b72",
   "metadata": {
    "execution": {
     "iopub.execute_input": "2023-11-02T17:21:08.545322Z",
     "iopub.status.busy": "2023-11-02T17:21:08.544459Z",
     "iopub.status.idle": "2023-11-02T17:21:08.551500Z",
     "shell.execute_reply": "2023-11-02T17:21:08.550462Z"
    },
    "papermill": {
     "duration": 0.035138,
     "end_time": "2023-11-02T17:21:08.554445",
     "exception": false,
     "start_time": "2023-11-02T17:21:08.519307",
     "status": "completed"
    },
    "tags": []
   },
   "outputs": [
    {
     "data": {
      "text/plain": [
       "array([4, 5, 6])"
      ]
     },
     "execution_count": 23,
     "metadata": {},
     "output_type": "execute_result"
    }
   ],
   "source": [
    "a2d[1]"
   ]
  },
  {
   "cell_type": "code",
   "execution_count": 24,
   "id": "9f9805f0",
   "metadata": {
    "execution": {
     "iopub.execute_input": "2023-11-02T17:21:08.606551Z",
     "iopub.status.busy": "2023-11-02T17:21:08.606074Z",
     "iopub.status.idle": "2023-11-02T17:21:08.613908Z",
     "shell.execute_reply": "2023-11-02T17:21:08.612863Z"
    },
    "papermill": {
     "duration": 0.036197,
     "end_time": "2023-11-02T17:21:08.616066",
     "exception": false,
     "start_time": "2023-11-02T17:21:08.579869",
     "status": "completed"
    },
    "tags": []
   },
   "outputs": [
    {
     "data": {
      "text/plain": [
       "array([[1.1, 2. , 3. ],\n",
       "       [4. , 5. , 6. ],\n",
       "       [7. , 8. , 9. ]])"
      ]
     },
     "execution_count": 24,
     "metadata": {},
     "output_type": "execute_result"
    }
   ],
   "source": [
    "a3d[0]"
   ]
  },
  {
   "cell_type": "code",
   "execution_count": 25,
   "id": "e5b95041",
   "metadata": {
    "execution": {
     "iopub.execute_input": "2023-11-02T17:21:08.665496Z",
     "iopub.status.busy": "2023-11-02T17:21:08.665005Z",
     "iopub.status.idle": "2023-11-02T17:21:08.673052Z",
     "shell.execute_reply": "2023-11-02T17:21:08.671795Z"
    },
    "papermill": {
     "duration": 0.035199,
     "end_time": "2023-11-02T17:21:08.675414",
     "exception": false,
     "start_time": "2023-11-02T17:21:08.640215",
     "status": "completed"
    },
    "tags": []
   },
   "outputs": [
    {
     "data": {
      "text/plain": [
       "array([[1., 2., 3.],\n",
       "       [4., 5., 6.],\n",
       "       [7., 8., 9.]])"
      ]
     },
     "execution_count": 25,
     "metadata": {},
     "output_type": "execute_result"
    }
   ],
   "source": [
    "a3d[1]"
   ]
  },
  {
   "cell_type": "code",
   "execution_count": 26,
   "id": "dd5994f0",
   "metadata": {
    "execution": {
     "iopub.execute_input": "2023-11-02T17:21:08.726219Z",
     "iopub.status.busy": "2023-11-02T17:21:08.725553Z",
     "iopub.status.idle": "2023-11-02T17:21:08.733131Z",
     "shell.execute_reply": "2023-11-02T17:21:08.731972Z"
    },
    "papermill": {
     "duration": 0.035685,
     "end_time": "2023-11-02T17:21:08.735491",
     "exception": false,
     "start_time": "2023-11-02T17:21:08.699806",
     "status": "completed"
    },
    "tags": []
   },
   "outputs": [
    {
     "data": {
      "text/plain": [
       "array([[[1.1, 2. ],\n",
       "        [4. , 5. ]],\n",
       "\n",
       "       [[1. , 2. ],\n",
       "        [4. , 5. ]]])"
      ]
     },
     "execution_count": 26,
     "metadata": {},
     "output_type": "execute_result"
    }
   ],
   "source": [
    "a3d[:2,:2,:2]"
   ]
  },
  {
   "cell_type": "code",
   "execution_count": 27,
   "id": "b8254f56",
   "metadata": {
    "execution": {
     "iopub.execute_input": "2023-11-02T17:21:08.784031Z",
     "iopub.status.busy": "2023-11-02T17:21:08.783659Z",
     "iopub.status.idle": "2023-11-02T17:21:08.792168Z",
     "shell.execute_reply": "2023-11-02T17:21:08.790443Z"
    },
    "papermill": {
     "duration": 0.035661,
     "end_time": "2023-11-02T17:21:08.794579",
     "exception": false,
     "start_time": "2023-11-02T17:21:08.758918",
     "status": "completed"
    },
    "tags": []
   },
   "outputs": [
    {
     "data": {
      "text/plain": [
       "array([[[[9, 4, 3, 0, 3],\n",
       "         [5, 0, 2, 3, 8],\n",
       "         [1, 3, 3, 3, 7],\n",
       "         [0, 1, 9, 9, 0]],\n",
       "\n",
       "        [[4, 7, 3, 2, 7],\n",
       "         [2, 0, 0, 4, 5],\n",
       "         [5, 6, 8, 4, 1],\n",
       "         [4, 9, 8, 1, 1]],\n",
       "\n",
       "        [[7, 9, 9, 3, 6],\n",
       "         [7, 2, 0, 3, 5],\n",
       "         [9, 4, 4, 6, 4],\n",
       "         [4, 3, 4, 4, 8]]],\n",
       "\n",
       "\n",
       "       [[[4, 3, 7, 5, 5],\n",
       "         [0, 1, 5, 9, 3],\n",
       "         [0, 5, 0, 1, 2],\n",
       "         [4, 2, 0, 3, 2]],\n",
       "\n",
       "        [[0, 7, 5, 9, 0],\n",
       "         [2, 7, 2, 9, 2],\n",
       "         [3, 3, 2, 3, 4],\n",
       "         [1, 2, 9, 1, 4]],\n",
       "\n",
       "        [[6, 8, 2, 3, 0],\n",
       "         [0, 6, 0, 6, 3],\n",
       "         [3, 8, 8, 8, 2],\n",
       "         [3, 2, 0, 8, 8]]]])"
      ]
     },
     "execution_count": 27,
     "metadata": {},
     "output_type": "execute_result"
    }
   ],
   "source": [
    "arandom= np.random.randint(10,size=(2,3,4,5))\n",
    "arandom"
   ]
  },
  {
   "cell_type": "code",
   "execution_count": 28,
   "id": "d08110e7",
   "metadata": {
    "execution": {
     "iopub.execute_input": "2023-11-02T17:21:08.843352Z",
     "iopub.status.busy": "2023-11-02T17:21:08.842972Z",
     "iopub.status.idle": "2023-11-02T17:21:08.849975Z",
     "shell.execute_reply": "2023-11-02T17:21:08.848857Z"
    },
    "papermill": {
     "duration": 0.033391,
     "end_time": "2023-11-02T17:21:08.852076",
     "exception": false,
     "start_time": "2023-11-02T17:21:08.818685",
     "status": "completed"
    },
    "tags": []
   },
   "outputs": [
    {
     "data": {
      "text/plain": [
       "2"
      ]
     },
     "execution_count": 28,
     "metadata": {},
     "output_type": "execute_result"
    }
   ],
   "source": [
    "arandom[1,1,1,2]"
   ]
  },
  {
   "cell_type": "markdown",
   "id": "43f08344",
   "metadata": {
    "papermill": {
     "duration": 0.022659,
     "end_time": "2023-11-02T17:21:08.898674",
     "exception": false,
     "start_time": "2023-11-02T17:21:08.876015",
     "status": "completed"
    },
    "tags": []
   },
   "source": [
    "# Manipulation"
   ]
  },
  {
   "cell_type": "code",
   "execution_count": 29,
   "id": "f7971484",
   "metadata": {
    "execution": {
     "iopub.execute_input": "2023-11-02T17:21:08.949539Z",
     "iopub.status.busy": "2023-11-02T17:21:08.949115Z",
     "iopub.status.idle": "2023-11-02T17:21:08.955799Z",
     "shell.execute_reply": "2023-11-02T17:21:08.954718Z"
    },
    "papermill": {
     "duration": 0.034785,
     "end_time": "2023-11-02T17:21:08.958052",
     "exception": false,
     "start_time": "2023-11-02T17:21:08.923267",
     "status": "completed"
    },
    "tags": []
   },
   "outputs": [
    {
     "data": {
      "text/plain": [
       "array([10,  2,  3])"
      ]
     },
     "execution_count": 29,
     "metadata": {},
     "output_type": "execute_result"
    }
   ],
   "source": [
    "a1d"
   ]
  },
  {
   "cell_type": "code",
   "execution_count": 30,
   "id": "8fc2c39b",
   "metadata": {
    "execution": {
     "iopub.execute_input": "2023-11-02T17:21:09.006065Z",
     "iopub.status.busy": "2023-11-02T17:21:09.005687Z",
     "iopub.status.idle": "2023-11-02T17:21:09.012415Z",
     "shell.execute_reply": "2023-11-02T17:21:09.011303Z"
    },
    "papermill": {
     "duration": 0.033243,
     "end_time": "2023-11-02T17:21:09.014742",
     "exception": false,
     "start_time": "2023-11-02T17:21:08.981499",
     "status": "completed"
    },
    "tags": []
   },
   "outputs": [
    {
     "data": {
      "text/plain": [
       "array([[1., 1., 1.],\n",
       "       [1., 1., 1.]])"
      ]
     },
     "execution_count": 30,
     "metadata": {},
     "output_type": "execute_result"
    }
   ],
   "source": [
    "ones"
   ]
  },
  {
   "cell_type": "code",
   "execution_count": 31,
   "id": "0a7bdefe",
   "metadata": {
    "execution": {
     "iopub.execute_input": "2023-11-02T17:21:09.062841Z",
     "iopub.status.busy": "2023-11-02T17:21:09.062464Z",
     "iopub.status.idle": "2023-11-02T17:21:09.068559Z",
     "shell.execute_reply": "2023-11-02T17:21:09.067789Z"
    },
    "papermill": {
     "duration": 0.032905,
     "end_time": "2023-11-02T17:21:09.070627",
     "exception": false,
     "start_time": "2023-11-02T17:21:09.037722",
     "status": "completed"
    },
    "tags": []
   },
   "outputs": [
    {
     "data": {
      "text/plain": [
       "array([[11.,  3.,  4.],\n",
       "       [11.,  3.,  4.]])"
      ]
     },
     "execution_count": 31,
     "metadata": {},
     "output_type": "execute_result"
    }
   ],
   "source": [
    "a1d+ones"
   ]
  },
  {
   "cell_type": "code",
   "execution_count": 32,
   "id": "d1201292",
   "metadata": {
    "execution": {
     "iopub.execute_input": "2023-11-02T17:21:09.118227Z",
     "iopub.status.busy": "2023-11-02T17:21:09.117816Z",
     "iopub.status.idle": "2023-11-02T17:21:09.125123Z",
     "shell.execute_reply": "2023-11-02T17:21:09.123889Z"
    },
    "papermill": {
     "duration": 0.033682,
     "end_time": "2023-11-02T17:21:09.127369",
     "exception": false,
     "start_time": "2023-11-02T17:21:09.093687",
     "status": "completed"
    },
    "tags": []
   },
   "outputs": [
    {
     "data": {
      "text/plain": [
       "array([[9., 1., 2.],\n",
       "       [9., 1., 2.]])"
      ]
     },
     "execution_count": 32,
     "metadata": {},
     "output_type": "execute_result"
    }
   ],
   "source": [
    "a1d-ones"
   ]
  },
  {
   "cell_type": "code",
   "execution_count": 33,
   "id": "230d4de3",
   "metadata": {
    "execution": {
     "iopub.execute_input": "2023-11-02T17:21:09.175844Z",
     "iopub.status.busy": "2023-11-02T17:21:09.175478Z",
     "iopub.status.idle": "2023-11-02T17:21:09.182103Z",
     "shell.execute_reply": "2023-11-02T17:21:09.181332Z"
    },
    "papermill": {
     "duration": 0.033503,
     "end_time": "2023-11-02T17:21:09.184164",
     "exception": false,
     "start_time": "2023-11-02T17:21:09.150661",
     "status": "completed"
    },
    "tags": []
   },
   "outputs": [
    {
     "data": {
      "text/plain": [
       "array([[10.,  2.,  3.],\n",
       "       [10.,  2.,  3.]])"
      ]
     },
     "execution_count": 33,
     "metadata": {},
     "output_type": "execute_result"
    }
   ],
   "source": [
    "a1d*ones"
   ]
  },
  {
   "cell_type": "code",
   "execution_count": 34,
   "id": "699e29b5",
   "metadata": {
    "execution": {
     "iopub.execute_input": "2023-11-02T17:21:09.232332Z",
     "iopub.status.busy": "2023-11-02T17:21:09.231945Z",
     "iopub.status.idle": "2023-11-02T17:21:09.238292Z",
     "shell.execute_reply": "2023-11-02T17:21:09.237445Z"
    },
    "papermill": {
     "duration": 0.032669,
     "end_time": "2023-11-02T17:21:09.240199",
     "exception": false,
     "start_time": "2023-11-02T17:21:09.207530",
     "status": "completed"
    },
    "tags": []
   },
   "outputs": [
    {
     "data": {
      "text/plain": [
       "array([[10.,  2.,  3.],\n",
       "       [10.,  2.,  3.]])"
      ]
     },
     "execution_count": 34,
     "metadata": {},
     "output_type": "execute_result"
    }
   ],
   "source": [
    "a1d/ones"
   ]
  },
  {
   "cell_type": "code",
   "execution_count": 35,
   "id": "b972672f",
   "metadata": {
    "execution": {
     "iopub.execute_input": "2023-11-02T17:21:09.288599Z",
     "iopub.status.busy": "2023-11-02T17:21:09.288207Z",
     "iopub.status.idle": "2023-11-02T17:21:09.294720Z",
     "shell.execute_reply": "2023-11-02T17:21:09.293919Z"
    },
    "papermill": {
     "duration": 0.033093,
     "end_time": "2023-11-02T17:21:09.296737",
     "exception": false,
     "start_time": "2023-11-02T17:21:09.263644",
     "status": "completed"
    },
    "tags": []
   },
   "outputs": [
    {
     "data": {
      "text/plain": [
       "array([[10.,  2.,  3.],\n",
       "       [10.,  2.,  3.]])"
      ]
     },
     "execution_count": 35,
     "metadata": {},
     "output_type": "execute_result"
    }
   ],
   "source": [
    "a1d//ones"
   ]
  },
  {
   "cell_type": "code",
   "execution_count": 36,
   "id": "f84d2f2d",
   "metadata": {
    "execution": {
     "iopub.execute_input": "2023-11-02T17:21:09.347584Z",
     "iopub.status.busy": "2023-11-02T17:21:09.347231Z",
     "iopub.status.idle": "2023-11-02T17:21:09.353498Z",
     "shell.execute_reply": "2023-11-02T17:21:09.352548Z"
    },
    "papermill": {
     "duration": 0.035279,
     "end_time": "2023-11-02T17:21:09.355394",
     "exception": false,
     "start_time": "2023-11-02T17:21:09.320115",
     "status": "completed"
    },
    "tags": []
   },
   "outputs": [
    {
     "data": {
      "text/plain": [
       "array([[1, 2, 3],\n",
       "       [4, 5, 6]])"
      ]
     },
     "execution_count": 36,
     "metadata": {},
     "output_type": "execute_result"
    }
   ],
   "source": [
    "a2d"
   ]
  },
  {
   "cell_type": "code",
   "execution_count": 37,
   "id": "b5f75ae8",
   "metadata": {
    "execution": {
     "iopub.execute_input": "2023-11-02T17:21:09.403995Z",
     "iopub.status.busy": "2023-11-02T17:21:09.403602Z",
     "iopub.status.idle": "2023-11-02T17:21:09.408539Z",
     "shell.execute_reply": "2023-11-02T17:21:09.407459Z"
    },
    "papermill": {
     "duration": 0.031902,
     "end_time": "2023-11-02T17:21:09.410812",
     "exception": false,
     "start_time": "2023-11-02T17:21:09.378910",
     "status": "completed"
    },
    "tags": []
   },
   "outputs": [],
   "source": [
    "t=a3d[:2,:2,:3]"
   ]
  },
  {
   "cell_type": "code",
   "execution_count": 38,
   "id": "02f3e0da",
   "metadata": {
    "execution": {
     "iopub.execute_input": "2023-11-02T17:21:09.460681Z",
     "iopub.status.busy": "2023-11-02T17:21:09.459646Z",
     "iopub.status.idle": "2023-11-02T17:21:09.466660Z",
     "shell.execute_reply": "2023-11-02T17:21:09.465850Z"
    },
    "papermill": {
     "duration": 0.033879,
     "end_time": "2023-11-02T17:21:09.468693",
     "exception": false,
     "start_time": "2023-11-02T17:21:09.434814",
     "status": "completed"
    },
    "tags": []
   },
   "outputs": [
    {
     "data": {
      "text/plain": [
       "array([[[ 1.1,  4. ,  9. ],\n",
       "        [16. , 25. , 36. ]],\n",
       "\n",
       "       [[ 1. ,  4. ,  9. ],\n",
       "        [16. , 25. , 36. ]]])"
      ]
     },
     "execution_count": 38,
     "metadata": {},
     "output_type": "execute_result"
    }
   ],
   "source": [
    "a2d*t"
   ]
  },
  {
   "cell_type": "code",
   "execution_count": 39,
   "id": "8abc189f",
   "metadata": {
    "execution": {
     "iopub.execute_input": "2023-11-02T17:21:09.519130Z",
     "iopub.status.busy": "2023-11-02T17:21:09.518384Z",
     "iopub.status.idle": "2023-11-02T17:21:09.527244Z",
     "shell.execute_reply": "2023-11-02T17:21:09.524500Z"
    },
    "papermill": {
     "duration": 0.037031,
     "end_time": "2023-11-02T17:21:09.529941",
     "exception": false,
     "start_time": "2023-11-02T17:21:09.492910",
     "status": "completed"
    },
    "tags": []
   },
   "outputs": [
    {
     "data": {
      "text/plain": [
       "array([[10. ,  1. ,  1. ],\n",
       "       [ 2.5,  0.4,  0.5]])"
      ]
     },
     "execution_count": 39,
     "metadata": {},
     "output_type": "execute_result"
    }
   ],
   "source": [
    "a1d/a2d"
   ]
  },
  {
   "cell_type": "code",
   "execution_count": 40,
   "id": "bd84737d",
   "metadata": {
    "execution": {
     "iopub.execute_input": "2023-11-02T17:21:09.582965Z",
     "iopub.status.busy": "2023-11-02T17:21:09.582339Z",
     "iopub.status.idle": "2023-11-02T17:21:09.589534Z",
     "shell.execute_reply": "2023-11-02T17:21:09.588339Z"
    },
    "papermill": {
     "duration": 0.036427,
     "end_time": "2023-11-02T17:21:09.591768",
     "exception": false,
     "start_time": "2023-11-02T17:21:09.555341",
     "status": "completed"
    },
    "tags": []
   },
   "outputs": [
    {
     "data": {
      "text/plain": [
       "array([[10,  1,  1],\n",
       "       [ 2,  0,  0]])"
      ]
     },
     "execution_count": 40,
     "metadata": {},
     "output_type": "execute_result"
    }
   ],
   "source": [
    "a1d//a2d"
   ]
  },
  {
   "cell_type": "code",
   "execution_count": 41,
   "id": "61ab3ebf",
   "metadata": {
    "execution": {
     "iopub.execute_input": "2023-11-02T17:21:09.644659Z",
     "iopub.status.busy": "2023-11-02T17:21:09.644264Z",
     "iopub.status.idle": "2023-11-02T17:21:09.652600Z",
     "shell.execute_reply": "2023-11-02T17:21:09.651247Z"
    },
    "papermill": {
     "duration": 0.036271,
     "end_time": "2023-11-02T17:21:09.654775",
     "exception": false,
     "start_time": "2023-11-02T17:21:09.618504",
     "status": "completed"
    },
    "tags": []
   },
   "outputs": [
    {
     "data": {
      "text/plain": [
       "array([100,   4,   9])"
      ]
     },
     "execution_count": 41,
     "metadata": {},
     "output_type": "execute_result"
    }
   ],
   "source": [
    "a1d**2"
   ]
  },
  {
   "cell_type": "code",
   "execution_count": 42,
   "id": "a5e4b70b",
   "metadata": {
    "execution": {
     "iopub.execute_input": "2023-11-02T17:21:09.706682Z",
     "iopub.status.busy": "2023-11-02T17:21:09.706053Z",
     "iopub.status.idle": "2023-11-02T17:21:09.712949Z",
     "shell.execute_reply": "2023-11-02T17:21:09.711851Z"
    },
    "papermill": {
     "duration": 0.035205,
     "end_time": "2023-11-02T17:21:09.715375",
     "exception": false,
     "start_time": "2023-11-02T17:21:09.680170",
     "status": "completed"
    },
    "tags": []
   },
   "outputs": [
    {
     "data": {
      "text/plain": [
       "array([100,   4,   9])"
      ]
     },
     "execution_count": 42,
     "metadata": {},
     "output_type": "execute_result"
    }
   ],
   "source": [
    "np.square(a1d)"
   ]
  },
  {
   "cell_type": "code",
   "execution_count": 43,
   "id": "ec5b6c5d",
   "metadata": {
    "execution": {
     "iopub.execute_input": "2023-11-02T17:21:09.770996Z",
     "iopub.status.busy": "2023-11-02T17:21:09.770238Z",
     "iopub.status.idle": "2023-11-02T17:21:09.779186Z",
     "shell.execute_reply": "2023-11-02T17:21:09.777837Z"
    },
    "papermill": {
     "duration": 0.039563,
     "end_time": "2023-11-02T17:21:09.781591",
     "exception": false,
     "start_time": "2023-11-02T17:21:09.742028",
     "status": "completed"
    },
    "tags": []
   },
   "outputs": [
    {
     "data": {
      "text/plain": [
       "array([[11.,  3.,  4.],\n",
       "       [11.,  3.,  4.]])"
      ]
     },
     "execution_count": 43,
     "metadata": {},
     "output_type": "execute_result"
    }
   ],
   "source": [
    "np.add(a1d,ones)"
   ]
  },
  {
   "cell_type": "code",
   "execution_count": 44,
   "id": "bc53be28",
   "metadata": {
    "execution": {
     "iopub.execute_input": "2023-11-02T17:21:09.838781Z",
     "iopub.status.busy": "2023-11-02T17:21:09.838060Z",
     "iopub.status.idle": "2023-11-02T17:21:09.845514Z",
     "shell.execute_reply": "2023-11-02T17:21:09.844284Z"
    },
    "papermill": {
     "duration": 0.039104,
     "end_time": "2023-11-02T17:21:09.847965",
     "exception": false,
     "start_time": "2023-11-02T17:21:09.808861",
     "status": "completed"
    },
    "tags": []
   },
   "outputs": [
    {
     "data": {
      "text/plain": [
       "array([[1, 0, 1],\n",
       "       [0, 1, 0]])"
      ]
     },
     "execution_count": 44,
     "metadata": {},
     "output_type": "execute_result"
    }
   ],
   "source": [
    "a2d%2"
   ]
  },
  {
   "cell_type": "markdown",
   "id": "4c66f9d4",
   "metadata": {
    "papermill": {
     "duration": 0.024891,
     "end_time": "2023-11-02T17:21:09.898599",
     "exception": false,
     "start_time": "2023-11-02T17:21:09.873708",
     "status": "completed"
    },
    "tags": []
   },
   "source": [
    "# Aggregations"
   ]
  },
  {
   "cell_type": "code",
   "execution_count": 45,
   "id": "7001984e",
   "metadata": {
    "execution": {
     "iopub.execute_input": "2023-11-02T17:21:09.952664Z",
     "iopub.status.busy": "2023-11-02T17:21:09.952239Z",
     "iopub.status.idle": "2023-11-02T17:21:09.959116Z",
     "shell.execute_reply": "2023-11-02T17:21:09.958235Z"
    },
    "papermill": {
     "duration": 0.035985,
     "end_time": "2023-11-02T17:21:09.961701",
     "exception": false,
     "start_time": "2023-11-02T17:21:09.925716",
     "status": "completed"
    },
    "tags": []
   },
   "outputs": [
    {
     "data": {
      "text/plain": [
       "array([10,  2,  3])"
      ]
     },
     "execution_count": 45,
     "metadata": {},
     "output_type": "execute_result"
    }
   ],
   "source": [
    "a1d"
   ]
  },
  {
   "cell_type": "code",
   "execution_count": 46,
   "id": "05d6a73e",
   "metadata": {
    "execution": {
     "iopub.execute_input": "2023-11-02T17:21:10.019724Z",
     "iopub.status.busy": "2023-11-02T17:21:10.019314Z",
     "iopub.status.idle": "2023-11-02T17:21:10.026538Z",
     "shell.execute_reply": "2023-11-02T17:21:10.025669Z"
    },
    "papermill": {
     "duration": 0.040082,
     "end_time": "2023-11-02T17:21:10.029172",
     "exception": false,
     "start_time": "2023-11-02T17:21:09.989090",
     "status": "completed"
    },
    "tags": []
   },
   "outputs": [
    {
     "data": {
      "text/plain": [
       "15"
      ]
     },
     "execution_count": 46,
     "metadata": {},
     "output_type": "execute_result"
    }
   ],
   "source": [
    "sum(a1d) # this is python method:: Slower"
   ]
  },
  {
   "cell_type": "code",
   "execution_count": 47,
   "id": "5e3d9cc3",
   "metadata": {
    "execution": {
     "iopub.execute_input": "2023-11-02T17:21:10.085019Z",
     "iopub.status.busy": "2023-11-02T17:21:10.084668Z",
     "iopub.status.idle": "2023-11-02T17:21:10.090359Z",
     "shell.execute_reply": "2023-11-02T17:21:10.089541Z"
    },
    "papermill": {
     "duration": 0.036859,
     "end_time": "2023-11-02T17:21:10.092331",
     "exception": false,
     "start_time": "2023-11-02T17:21:10.055472",
     "status": "completed"
    },
    "tags": []
   },
   "outputs": [
    {
     "data": {
      "text/plain": [
       "15"
      ]
     },
     "execution_count": 47,
     "metadata": {},
     "output_type": "execute_result"
    }
   ],
   "source": [
    "np.sum(a1d) # this is numpy method:: Faster"
   ]
  },
  {
   "cell_type": "code",
   "execution_count": 48,
   "id": "7a5e6a4b",
   "metadata": {
    "execution": {
     "iopub.execute_input": "2023-11-02T17:21:10.147357Z",
     "iopub.status.busy": "2023-11-02T17:21:10.146479Z",
     "iopub.status.idle": "2023-11-02T17:21:10.151359Z",
     "shell.execute_reply": "2023-11-02T17:21:10.150245Z"
    },
    "papermill": {
     "duration": 0.035746,
     "end_time": "2023-11-02T17:21:10.153805",
     "exception": false,
     "start_time": "2023-11-02T17:21:10.118059",
     "status": "completed"
    },
    "tags": []
   },
   "outputs": [],
   "source": [
    "# Examples\n",
    "\n",
    "lambi_array = np.random.random(1000)"
   ]
  },
  {
   "cell_type": "code",
   "execution_count": 49,
   "id": "9c0124b2",
   "metadata": {
    "execution": {
     "iopub.execute_input": "2023-11-02T17:21:10.205178Z",
     "iopub.status.busy": "2023-11-02T17:21:10.204751Z",
     "iopub.status.idle": "2023-11-02T17:21:10.211572Z",
     "shell.execute_reply": "2023-11-02T17:21:10.210535Z"
    },
    "papermill": {
     "duration": 0.0351,
     "end_time": "2023-11-02T17:21:10.213762",
     "exception": false,
     "start_time": "2023-11-02T17:21:10.178662",
     "status": "completed"
    },
    "tags": []
   },
   "outputs": [
    {
     "data": {
      "text/plain": [
       "1000"
      ]
     },
     "execution_count": 49,
     "metadata": {},
     "output_type": "execute_result"
    }
   ],
   "source": [
    "lambi_array.size"
   ]
  },
  {
   "cell_type": "code",
   "execution_count": 50,
   "id": "e94b1036",
   "metadata": {
    "execution": {
     "iopub.execute_input": "2023-11-02T17:21:10.269597Z",
     "iopub.status.busy": "2023-11-02T17:21:10.267918Z",
     "iopub.status.idle": "2023-11-02T17:21:10.275910Z",
     "shell.execute_reply": "2023-11-02T17:21:10.274822Z"
    },
    "papermill": {
     "duration": 0.037358,
     "end_time": "2023-11-02T17:21:10.278381",
     "exception": false,
     "start_time": "2023-11-02T17:21:10.241023",
     "status": "completed"
    },
    "tags": []
   },
   "outputs": [
    {
     "data": {
      "text/plain": [
       "array([0.57615733, 0.59204193, 0.57225191, 0.22308163, 0.95274901,\n",
       "       0.44712538, 0.84640867, 0.69947928, 0.29743695, 0.81379782,\n",
       "       0.39650574, 0.8811032 , 0.58127287, 0.88173536, 0.69253159,\n",
       "       0.72525428, 0.50132438, 0.95608363, 0.6439902 , 0.42385505])"
      ]
     },
     "execution_count": 50,
     "metadata": {},
     "output_type": "execute_result"
    }
   ],
   "source": [
    "lambi_array[:20]"
   ]
  },
  {
   "cell_type": "code",
   "execution_count": 51,
   "id": "20589810",
   "metadata": {
    "execution": {
     "iopub.execute_input": "2023-11-02T17:21:10.331629Z",
     "iopub.status.busy": "2023-11-02T17:21:10.331246Z",
     "iopub.status.idle": "2023-11-02T17:21:22.466748Z",
     "shell.execute_reply": "2023-11-02T17:21:22.465698Z"
    },
    "papermill": {
     "duration": 12.165542,
     "end_time": "2023-11-02T17:21:22.469091",
     "exception": false,
     "start_time": "2023-11-02T17:21:10.303549",
     "status": "completed"
    },
    "tags": []
   },
   "outputs": [
    {
     "name": "stdout",
     "output_type": "stream",
     "text": [
      "97.2 µs ± 3.41 µs per loop (mean ± std. dev. of 7 runs, 10,000 loops each)\n",
      "5.26 µs ± 123 ns per loop (mean ± std. dev. of 7 runs, 100,000 loops each)\n"
     ]
    }
   ],
   "source": [
    "%timeit sum(lambi_array) # python sum\n",
    "%timeit np.sum(lambi_array) # np sum"
   ]
  },
  {
   "cell_type": "markdown",
   "id": "269475a0",
   "metadata": {
    "papermill": {
     "duration": 0.027914,
     "end_time": "2023-11-02T17:21:22.522335",
     "exception": false,
     "start_time": "2023-11-02T17:21:22.494421",
     "status": "completed"
    },
    "tags": []
   },
   "source": [
    "# Statistics"
   ]
  },
  {
   "cell_type": "code",
   "execution_count": 52,
   "id": "691f9c89",
   "metadata": {
    "execution": {
     "iopub.execute_input": "2023-11-02T17:21:22.579639Z",
     "iopub.status.busy": "2023-11-02T17:21:22.578761Z",
     "iopub.status.idle": "2023-11-02T17:21:22.586372Z",
     "shell.execute_reply": "2023-11-02T17:21:22.585025Z"
    },
    "papermill": {
     "duration": 0.039219,
     "end_time": "2023-11-02T17:21:22.588865",
     "exception": false,
     "start_time": "2023-11-02T17:21:22.549646",
     "status": "completed"
    },
    "tags": []
   },
   "outputs": [
    {
     "data": {
      "text/plain": [
       "10"
      ]
     },
     "execution_count": 52,
     "metadata": {},
     "output_type": "execute_result"
    }
   ],
   "source": [
    "np.max(a1d)"
   ]
  },
  {
   "cell_type": "code",
   "execution_count": 53,
   "id": "18297590",
   "metadata": {
    "execution": {
     "iopub.execute_input": "2023-11-02T17:21:22.645241Z",
     "iopub.status.busy": "2023-11-02T17:21:22.644389Z",
     "iopub.status.idle": "2023-11-02T17:21:22.651392Z",
     "shell.execute_reply": "2023-11-02T17:21:22.650411Z"
    },
    "papermill": {
     "duration": 0.036554,
     "end_time": "2023-11-02T17:21:22.653561",
     "exception": false,
     "start_time": "2023-11-02T17:21:22.617007",
     "status": "completed"
    },
    "tags": []
   },
   "outputs": [
    {
     "data": {
      "text/plain": [
       "2"
      ]
     },
     "execution_count": 53,
     "metadata": {},
     "output_type": "execute_result"
    }
   ],
   "source": [
    "np.min(a1d)"
   ]
  },
  {
   "cell_type": "code",
   "execution_count": 54,
   "id": "55f26a3a",
   "metadata": {
    "execution": {
     "iopub.execute_input": "2023-11-02T17:21:22.706420Z",
     "iopub.status.busy": "2023-11-02T17:21:22.705673Z",
     "iopub.status.idle": "2023-11-02T17:21:22.712521Z",
     "shell.execute_reply": "2023-11-02T17:21:22.711591Z"
    },
    "papermill": {
     "duration": 0.03567,
     "end_time": "2023-11-02T17:21:22.714720",
     "exception": false,
     "start_time": "2023-11-02T17:21:22.679050",
     "status": "completed"
    },
    "tags": []
   },
   "outputs": [
    {
     "data": {
      "text/plain": [
       "5.0"
      ]
     },
     "execution_count": 54,
     "metadata": {},
     "output_type": "execute_result"
    }
   ],
   "source": [
    "np.mean(a1d)"
   ]
  },
  {
   "cell_type": "code",
   "execution_count": 55,
   "id": "8e710ceb",
   "metadata": {
    "execution": {
     "iopub.execute_input": "2023-11-02T17:21:22.767816Z",
     "iopub.status.busy": "2023-11-02T17:21:22.767408Z",
     "iopub.status.idle": "2023-11-02T17:21:22.774498Z",
     "shell.execute_reply": "2023-11-02T17:21:22.773706Z"
    },
    "papermill": {
     "duration": 0.036406,
     "end_time": "2023-11-02T17:21:22.776613",
     "exception": false,
     "start_time": "2023-11-02T17:21:22.740207",
     "status": "completed"
    },
    "tags": []
   },
   "outputs": [
    {
     "data": {
      "text/plain": [
       "3.559026084010437"
      ]
     },
     "execution_count": 55,
     "metadata": {},
     "output_type": "execute_result"
    }
   ],
   "source": [
    "np.std(a1d)"
   ]
  },
  {
   "cell_type": "code",
   "execution_count": 56,
   "id": "c2614885",
   "metadata": {
    "execution": {
     "iopub.execute_input": "2023-11-02T17:21:22.832615Z",
     "iopub.status.busy": "2023-11-02T17:21:22.831393Z",
     "iopub.status.idle": "2023-11-02T17:21:22.839929Z",
     "shell.execute_reply": "2023-11-02T17:21:22.838937Z"
    },
    "papermill": {
     "duration": 0.03936,
     "end_time": "2023-11-02T17:21:22.842225",
     "exception": false,
     "start_time": "2023-11-02T17:21:22.802865",
     "status": "completed"
    },
    "tags": []
   },
   "outputs": [
    {
     "data": {
      "text/plain": [
       "12.666666666666666"
      ]
     },
     "execution_count": 56,
     "metadata": {},
     "output_type": "execute_result"
    }
   ],
   "source": [
    "np.var(a1d)"
   ]
  },
  {
   "cell_type": "markdown",
   "id": "94672f1f",
   "metadata": {
    "papermill": {
     "duration": 0.025403,
     "end_time": "2023-11-02T17:21:22.893920",
     "exception": false,
     "start_time": "2023-11-02T17:21:22.868517",
     "status": "completed"
    },
    "tags": []
   },
   "source": [
    "# Matrix Multiplication"
   ]
  },
  {
   "cell_type": "markdown",
   "id": "ef141f58",
   "metadata": {
    "papermill": {
     "duration": 0.025943,
     "end_time": "2023-11-02T17:21:22.946268",
     "exception": false,
     "start_time": "2023-11-02T17:21:22.920325",
     "status": "completed"
    },
    "tags": []
   },
   "source": [
    "## Dot Product vs Element wise multiplication"
   ]
  },
  {
   "cell_type": "code",
   "execution_count": 57,
   "id": "e17bea6b",
   "metadata": {
    "execution": {
     "iopub.execute_input": "2023-11-02T17:21:23.000517Z",
     "iopub.status.busy": "2023-11-02T17:21:23.000125Z",
     "iopub.status.idle": "2023-11-02T17:21:23.006888Z",
     "shell.execute_reply": "2023-11-02T17:21:23.005812Z"
    },
    "papermill": {
     "duration": 0.035869,
     "end_time": "2023-11-02T17:21:23.008909",
     "exception": false,
     "start_time": "2023-11-02T17:21:22.973040",
     "status": "completed"
    },
    "tags": []
   },
   "outputs": [],
   "source": [
    "np.random.seed(seed=0)\n",
    "matrix_1= np.random.randint(10,size=(4,3))\n",
    "matrix_2= np.random.randint(10,size=(4,3))"
   ]
  },
  {
   "cell_type": "code",
   "execution_count": 58,
   "id": "d012c1ba",
   "metadata": {
    "execution": {
     "iopub.execute_input": "2023-11-02T17:21:23.063780Z",
     "iopub.status.busy": "2023-11-02T17:21:23.063195Z",
     "iopub.status.idle": "2023-11-02T17:21:23.069170Z",
     "shell.execute_reply": "2023-11-02T17:21:23.068228Z"
    },
    "papermill": {
     "duration": 0.036681,
     "end_time": "2023-11-02T17:21:23.071248",
     "exception": false,
     "start_time": "2023-11-02T17:21:23.034567",
     "status": "completed"
    },
    "tags": []
   },
   "outputs": [
    {
     "data": {
      "text/plain": [
       "array([[5, 0, 3],\n",
       "       [3, 7, 9],\n",
       "       [3, 5, 2],\n",
       "       [4, 7, 6]])"
      ]
     },
     "execution_count": 58,
     "metadata": {},
     "output_type": "execute_result"
    }
   ],
   "source": [
    "matrix_1"
   ]
  },
  {
   "cell_type": "code",
   "execution_count": 59,
   "id": "41df8dbe",
   "metadata": {
    "execution": {
     "iopub.execute_input": "2023-11-02T17:21:23.126779Z",
     "iopub.status.busy": "2023-11-02T17:21:23.126197Z",
     "iopub.status.idle": "2023-11-02T17:21:23.131826Z",
     "shell.execute_reply": "2023-11-02T17:21:23.131094Z"
    },
    "papermill": {
     "duration": 0.036118,
     "end_time": "2023-11-02T17:21:23.133775",
     "exception": false,
     "start_time": "2023-11-02T17:21:23.097657",
     "status": "completed"
    },
    "tags": []
   },
   "outputs": [
    {
     "data": {
      "text/plain": [
       "array([[8, 8, 1],\n",
       "       [6, 7, 7],\n",
       "       [8, 1, 5],\n",
       "       [9, 8, 9]])"
      ]
     },
     "execution_count": 59,
     "metadata": {},
     "output_type": "execute_result"
    }
   ],
   "source": [
    "matrix_2"
   ]
  },
  {
   "cell_type": "code",
   "execution_count": 60,
   "id": "b69c7b8f",
   "metadata": {
    "execution": {
     "iopub.execute_input": "2023-11-02T17:21:23.189228Z",
     "iopub.status.busy": "2023-11-02T17:21:23.188577Z",
     "iopub.status.idle": "2023-11-02T17:21:23.194178Z",
     "shell.execute_reply": "2023-11-02T17:21:23.193361Z"
    },
    "papermill": {
     "duration": 0.035782,
     "end_time": "2023-11-02T17:21:23.196206",
     "exception": false,
     "start_time": "2023-11-02T17:21:23.160424",
     "status": "completed"
    },
    "tags": []
   },
   "outputs": [
    {
     "data": {
      "text/plain": [
       "array([[40,  0,  3],\n",
       "       [18, 49, 63],\n",
       "       [24,  5, 10],\n",
       "       [36, 56, 54]])"
      ]
     },
     "execution_count": 60,
     "metadata": {},
     "output_type": "execute_result"
    }
   ],
   "source": [
    "# Element wise multiplication \n",
    "\n",
    "matrix_1*matrix_2"
   ]
  },
  {
   "cell_type": "code",
   "execution_count": 61,
   "id": "d46cf3b2",
   "metadata": {
    "execution": {
     "iopub.execute_input": "2023-11-02T17:21:23.252599Z",
     "iopub.status.busy": "2023-11-02T17:21:23.251990Z",
     "iopub.status.idle": "2023-11-02T17:21:23.258574Z",
     "shell.execute_reply": "2023-11-02T17:21:23.257370Z"
    },
    "papermill": {
     "duration": 0.037097,
     "end_time": "2023-11-02T17:21:23.260949",
     "exception": false,
     "start_time": "2023-11-02T17:21:23.223852",
     "status": "completed"
    },
    "tags": []
   },
   "outputs": [
    {
     "data": {
      "text/plain": [
       "array([[8, 8, 1],\n",
       "       [6, 7, 7],\n",
       "       [8, 1, 5],\n",
       "       [9, 8, 9]])"
      ]
     },
     "execution_count": 61,
     "metadata": {},
     "output_type": "execute_result"
    }
   ],
   "source": [
    "matrix_2"
   ]
  },
  {
   "cell_type": "code",
   "execution_count": 62,
   "id": "36df1238",
   "metadata": {
    "execution": {
     "iopub.execute_input": "2023-11-02T17:21:23.315245Z",
     "iopub.status.busy": "2023-11-02T17:21:23.314689Z",
     "iopub.status.idle": "2023-11-02T17:21:23.321197Z",
     "shell.execute_reply": "2023-11-02T17:21:23.320111Z"
    },
    "papermill": {
     "duration": 0.036461,
     "end_time": "2023-11-02T17:21:23.323491",
     "exception": false,
     "start_time": "2023-11-02T17:21:23.287030",
     "status": "completed"
    },
    "tags": []
   },
   "outputs": [
    {
     "data": {
      "text/plain": [
       "array([[5, 0, 3],\n",
       "       [3, 7, 9],\n",
       "       [3, 5, 2],\n",
       "       [4, 7, 6]])"
      ]
     },
     "execution_count": 62,
     "metadata": {},
     "output_type": "execute_result"
    }
   ],
   "source": [
    "matrix_1"
   ]
  },
  {
   "cell_type": "code",
   "execution_count": 63,
   "id": "a1bb9dd6",
   "metadata": {
    "execution": {
     "iopub.execute_input": "2023-11-02T17:21:23.378396Z",
     "iopub.status.busy": "2023-11-02T17:21:23.377792Z",
     "iopub.status.idle": "2023-11-02T17:21:23.385126Z",
     "shell.execute_reply": "2023-11-02T17:21:23.383569Z"
    },
    "papermill": {
     "duration": 0.03837,
     "end_time": "2023-11-02T17:21:23.388036",
     "exception": false,
     "start_time": "2023-11-02T17:21:23.349666",
     "status": "completed"
    },
    "tags": []
   },
   "outputs": [
    {
     "data": {
      "text/plain": [
       "array([[8, 6, 8, 9],\n",
       "       [8, 7, 1, 8],\n",
       "       [1, 7, 5, 9]])"
      ]
     },
     "execution_count": 63,
     "metadata": {},
     "output_type": "execute_result"
    }
   ],
   "source": [
    "matrix_2.T"
   ]
  },
  {
   "cell_type": "code",
   "execution_count": 64,
   "id": "73e8f7c6",
   "metadata": {
    "execution": {
     "iopub.execute_input": "2023-11-02T17:21:23.443943Z",
     "iopub.status.busy": "2023-11-02T17:21:23.443291Z",
     "iopub.status.idle": "2023-11-02T17:21:23.449766Z",
     "shell.execute_reply": "2023-11-02T17:21:23.448912Z"
    },
    "papermill": {
     "duration": 0.037278,
     "end_time": "2023-11-02T17:21:23.452296",
     "exception": false,
     "start_time": "2023-11-02T17:21:23.415018",
     "status": "completed"
    },
    "tags": []
   },
   "outputs": [
    {
     "data": {
      "text/plain": [
       "array([[ 43,  51,  55,  72],\n",
       "       [ 89, 130,  76, 164],\n",
       "       [ 66,  67,  39,  85],\n",
       "       [ 94, 115,  69, 146]])"
      ]
     },
     "execution_count": 64,
     "metadata": {},
     "output_type": "execute_result"
    }
   ],
   "source": [
    "matrix_1.dot(matrix_2.T)"
   ]
  },
  {
   "cell_type": "markdown",
   "id": "431fbf38",
   "metadata": {
    "papermill": {
     "duration": 0.027793,
     "end_time": "2023-11-02T17:21:23.508446",
     "exception": false,
     "start_time": "2023-11-02T17:21:23.480653",
     "status": "completed"
    },
    "tags": []
   },
   "source": [
    "# Reshape and Transpose"
   ]
  },
  {
   "cell_type": "code",
   "execution_count": 65,
   "id": "49e64863",
   "metadata": {
    "execution": {
     "iopub.execute_input": "2023-11-02T17:21:23.566812Z",
     "iopub.status.busy": "2023-11-02T17:21:23.566226Z",
     "iopub.status.idle": "2023-11-02T17:21:23.571723Z",
     "shell.execute_reply": "2023-11-02T17:21:23.570925Z"
    },
    "papermill": {
     "duration": 0.037275,
     "end_time": "2023-11-02T17:21:23.573718",
     "exception": false,
     "start_time": "2023-11-02T17:21:23.536443",
     "status": "completed"
    },
    "tags": []
   },
   "outputs": [
    {
     "data": {
      "text/plain": [
       "array([[1, 2, 3],\n",
       "       [4, 5, 6]])"
      ]
     },
     "execution_count": 65,
     "metadata": {},
     "output_type": "execute_result"
    }
   ],
   "source": [
    "# Transpose :: swaps rows into columns and columns into rows\n",
    "\n",
    "a2d"
   ]
  },
  {
   "cell_type": "code",
   "execution_count": 66,
   "id": "922a1b00",
   "metadata": {
    "execution": {
     "iopub.execute_input": "2023-11-02T17:21:23.631215Z",
     "iopub.status.busy": "2023-11-02T17:21:23.630788Z",
     "iopub.status.idle": "2023-11-02T17:21:23.636785Z",
     "shell.execute_reply": "2023-11-02T17:21:23.635922Z"
    },
    "papermill": {
     "duration": 0.036185,
     "end_time": "2023-11-02T17:21:23.638975",
     "exception": false,
     "start_time": "2023-11-02T17:21:23.602790",
     "status": "completed"
    },
    "tags": []
   },
   "outputs": [
    {
     "data": {
      "text/plain": [
       "(2, 3)"
      ]
     },
     "execution_count": 66,
     "metadata": {},
     "output_type": "execute_result"
    }
   ],
   "source": [
    "a2d.shape"
   ]
  },
  {
   "cell_type": "code",
   "execution_count": 67,
   "id": "2b79acee",
   "metadata": {
    "execution": {
     "iopub.execute_input": "2023-11-02T17:21:23.695085Z",
     "iopub.status.busy": "2023-11-02T17:21:23.694398Z",
     "iopub.status.idle": "2023-11-02T17:21:23.701012Z",
     "shell.execute_reply": "2023-11-02T17:21:23.699939Z"
    },
    "papermill": {
     "duration": 0.037474,
     "end_time": "2023-11-02T17:21:23.703230",
     "exception": false,
     "start_time": "2023-11-02T17:21:23.665756",
     "status": "completed"
    },
    "tags": []
   },
   "outputs": [
    {
     "data": {
      "text/plain": [
       "(3, 2)"
      ]
     },
     "execution_count": 67,
     "metadata": {},
     "output_type": "execute_result"
    }
   ],
   "source": [
    "a2d.T.shape"
   ]
  },
  {
   "cell_type": "code",
   "execution_count": 68,
   "id": "5e924e2f",
   "metadata": {
    "execution": {
     "iopub.execute_input": "2023-11-02T17:21:23.760577Z",
     "iopub.status.busy": "2023-11-02T17:21:23.759217Z",
     "iopub.status.idle": "2023-11-02T17:21:23.766928Z",
     "shell.execute_reply": "2023-11-02T17:21:23.766066Z"
    },
    "papermill": {
     "duration": 0.03818,
     "end_time": "2023-11-02T17:21:23.769111",
     "exception": false,
     "start_time": "2023-11-02T17:21:23.730931",
     "status": "completed"
    },
    "tags": []
   },
   "outputs": [
    {
     "data": {
      "text/plain": [
       "array([[1, 4],\n",
       "       [2, 5],\n",
       "       [3, 6]])"
      ]
     },
     "execution_count": 68,
     "metadata": {},
     "output_type": "execute_result"
    }
   ],
   "source": [
    "a2d.T"
   ]
  },
  {
   "cell_type": "code",
   "execution_count": 69,
   "id": "28cb9c0b",
   "metadata": {
    "execution": {
     "iopub.execute_input": "2023-11-02T17:21:23.825908Z",
     "iopub.status.busy": "2023-11-02T17:21:23.825126Z",
     "iopub.status.idle": "2023-11-02T17:21:23.832692Z",
     "shell.execute_reply": "2023-11-02T17:21:23.831552Z"
    },
    "papermill": {
     "duration": 0.038407,
     "end_time": "2023-11-02T17:21:23.835132",
     "exception": false,
     "start_time": "2023-11-02T17:21:23.796725",
     "status": "completed"
    },
    "tags": []
   },
   "outputs": [
    {
     "data": {
      "text/plain": [
       "array([[1, 2, 3],\n",
       "       [4, 5, 6]])"
      ]
     },
     "execution_count": 69,
     "metadata": {},
     "output_type": "execute_result"
    }
   ],
   "source": [
    "# Reshape\n",
    "\n",
    "a2d.reshape(2,3)"
   ]
  },
  {
   "cell_type": "code",
   "execution_count": 70,
   "id": "585d6753",
   "metadata": {
    "execution": {
     "iopub.execute_input": "2023-11-02T17:21:23.891674Z",
     "iopub.status.busy": "2023-11-02T17:21:23.891306Z",
     "iopub.status.idle": "2023-11-02T17:21:23.898180Z",
     "shell.execute_reply": "2023-11-02T17:21:23.897112Z"
    },
    "papermill": {
     "duration": 0.037732,
     "end_time": "2023-11-02T17:21:23.900398",
     "exception": false,
     "start_time": "2023-11-02T17:21:23.862666",
     "status": "completed"
    },
    "tags": []
   },
   "outputs": [
    {
     "data": {
      "text/plain": [
       "array([[12, 15,  0],\n",
       "       [ 3,  3,  7],\n",
       "       [ 9, 19, 18],\n",
       "       [ 4,  6, 12],\n",
       "       [ 1,  6,  7]])"
      ]
     },
     "execution_count": 70,
     "metadata": {},
     "output_type": "execute_result"
    }
   ],
   "source": [
    "np.random.seed(seed=0)\n",
    "item_amount = np.random.randint(20,size=(5,3))\n",
    "item_amount"
   ]
  },
  {
   "cell_type": "code",
   "execution_count": 71,
   "id": "c46c3166",
   "metadata": {
    "execution": {
     "iopub.execute_input": "2023-11-02T17:21:23.957525Z",
     "iopub.status.busy": "2023-11-02T17:21:23.957120Z",
     "iopub.status.idle": "2023-11-02T17:21:23.964281Z",
     "shell.execute_reply": "2023-11-02T17:21:23.963163Z"
    },
    "papermill": {
     "duration": 0.039792,
     "end_time": "2023-11-02T17:21:23.967111",
     "exception": false,
     "start_time": "2023-11-02T17:21:23.927319",
     "status": "completed"
    },
    "tags": []
   },
   "outputs": [
    {
     "data": {
      "text/plain": [
       "array([12,  5, 15])"
      ]
     },
     "execution_count": 71,
     "metadata": {},
     "output_type": "execute_result"
    }
   ],
   "source": [
    "item_price = np.array([12,5,15])\n",
    "item_price"
   ]
  },
  {
   "cell_type": "code",
   "execution_count": 72,
   "id": "c02ab7dc",
   "metadata": {
    "execution": {
     "iopub.execute_input": "2023-11-02T17:21:24.025201Z",
     "iopub.status.busy": "2023-11-02T17:21:24.024716Z",
     "iopub.status.idle": "2023-11-02T17:21:24.031317Z",
     "shell.execute_reply": "2023-11-02T17:21:24.030237Z"
    },
    "papermill": {
     "duration": 0.039,
     "end_time": "2023-11-02T17:21:24.033542",
     "exception": false,
     "start_time": "2023-11-02T17:21:23.994542",
     "status": "completed"
    },
    "tags": []
   },
   "outputs": [],
   "source": [
    "item_price_df = pd.DataFrame(item_price.reshape(1,3),\n",
    "                             index=['item_price'],\n",
    "                             columns=['item1','item2','item3'])"
   ]
  },
  {
   "cell_type": "code",
   "execution_count": 73,
   "id": "f0bfa7a0",
   "metadata": {
    "execution": {
     "iopub.execute_input": "2023-11-02T17:21:24.091730Z",
     "iopub.status.busy": "2023-11-02T17:21:24.091347Z",
     "iopub.status.idle": "2023-11-02T17:21:24.107878Z",
     "shell.execute_reply": "2023-11-02T17:21:24.106364Z"
    },
    "papermill": {
     "duration": 0.048081,
     "end_time": "2023-11-02T17:21:24.110125",
     "exception": false,
     "start_time": "2023-11-02T17:21:24.062044",
     "status": "completed"
    },
    "tags": []
   },
   "outputs": [
    {
     "data": {
      "text/html": [
       "<div>\n",
       "<style scoped>\n",
       "    .dataframe tbody tr th:only-of-type {\n",
       "        vertical-align: middle;\n",
       "    }\n",
       "\n",
       "    .dataframe tbody tr th {\n",
       "        vertical-align: top;\n",
       "    }\n",
       "\n",
       "    .dataframe thead th {\n",
       "        text-align: right;\n",
       "    }\n",
       "</style>\n",
       "<table border=\"1\" class=\"dataframe\">\n",
       "  <thead>\n",
       "    <tr style=\"text-align: right;\">\n",
       "      <th></th>\n",
       "      <th>item1</th>\n",
       "      <th>item2</th>\n",
       "      <th>item3</th>\n",
       "    </tr>\n",
       "  </thead>\n",
       "  <tbody>\n",
       "    <tr>\n",
       "      <th>item_price</th>\n",
       "      <td>12</td>\n",
       "      <td>5</td>\n",
       "      <td>15</td>\n",
       "    </tr>\n",
       "  </tbody>\n",
       "</table>\n",
       "</div>"
      ],
      "text/plain": [
       "            item1  item2  item3\n",
       "item_price     12      5     15"
      ]
     },
     "execution_count": 73,
     "metadata": {},
     "output_type": "execute_result"
    }
   ],
   "source": [
    "item_price_df"
   ]
  },
  {
   "cell_type": "code",
   "execution_count": 74,
   "id": "d1cb1710",
   "metadata": {
    "execution": {
     "iopub.execute_input": "2023-11-02T17:21:24.168631Z",
     "iopub.status.busy": "2023-11-02T17:21:24.167927Z",
     "iopub.status.idle": "2023-11-02T17:21:24.174336Z",
     "shell.execute_reply": "2023-11-02T17:21:24.173491Z"
    },
    "papermill": {
     "duration": 0.038333,
     "end_time": "2023-11-02T17:21:24.176381",
     "exception": false,
     "start_time": "2023-11-02T17:21:24.138048",
     "status": "completed"
    },
    "tags": []
   },
   "outputs": [
    {
     "data": {
      "text/plain": [
       "((1, 3), (3, 5))"
      ]
     },
     "execution_count": 74,
     "metadata": {},
     "output_type": "execute_result"
    }
   ],
   "source": [
    "item_price_df.shape, item_amount.T.shape"
   ]
  },
  {
   "cell_type": "code",
   "execution_count": 75,
   "id": "f9edaefe",
   "metadata": {
    "execution": {
     "iopub.execute_input": "2023-11-02T17:21:24.234392Z",
     "iopub.status.busy": "2023-11-02T17:21:24.233428Z",
     "iopub.status.idle": "2023-11-02T17:21:24.243806Z",
     "shell.execute_reply": "2023-11-02T17:21:24.242662Z"
    },
    "papermill": {
     "duration": 0.041628,
     "end_time": "2023-11-02T17:21:24.246041",
     "exception": false,
     "start_time": "2023-11-02T17:21:24.204413",
     "status": "completed"
    },
    "tags": []
   },
   "outputs": [
    {
     "data": {
      "text/html": [
       "<div>\n",
       "<style scoped>\n",
       "    .dataframe tbody tr th:only-of-type {\n",
       "        vertical-align: middle;\n",
       "    }\n",
       "\n",
       "    .dataframe tbody tr th {\n",
       "        vertical-align: top;\n",
       "    }\n",
       "\n",
       "    .dataframe thead th {\n",
       "        text-align: right;\n",
       "    }\n",
       "</style>\n",
       "<table border=\"1\" class=\"dataframe\">\n",
       "  <thead>\n",
       "    <tr style=\"text-align: right;\">\n",
       "      <th></th>\n",
       "      <th>0</th>\n",
       "      <th>1</th>\n",
       "      <th>2</th>\n",
       "      <th>3</th>\n",
       "      <th>4</th>\n",
       "    </tr>\n",
       "  </thead>\n",
       "  <tbody>\n",
       "    <tr>\n",
       "      <th>item_price</th>\n",
       "      <td>219</td>\n",
       "      <td>156</td>\n",
       "      <td>473</td>\n",
       "      <td>258</td>\n",
       "      <td>147</td>\n",
       "    </tr>\n",
       "  </tbody>\n",
       "</table>\n",
       "</div>"
      ],
      "text/plain": [
       "              0    1    2    3    4\n",
       "item_price  219  156  473  258  147"
      ]
     },
     "execution_count": 75,
     "metadata": {},
     "output_type": "execute_result"
    }
   ],
   "source": [
    "total_sales= item_price_df.dot(item_amount.T)\n",
    "total_sales"
   ]
  },
  {
   "cell_type": "code",
   "execution_count": 76,
   "id": "db14c640",
   "metadata": {
    "execution": {
     "iopub.execute_input": "2023-11-02T17:21:24.304232Z",
     "iopub.status.busy": "2023-11-02T17:21:24.303054Z",
     "iopub.status.idle": "2023-11-02T17:21:24.313604Z",
     "shell.execute_reply": "2023-11-02T17:21:24.312527Z"
    },
    "papermill": {
     "duration": 0.041947,
     "end_time": "2023-11-02T17:21:24.315988",
     "exception": false,
     "start_time": "2023-11-02T17:21:24.274041",
     "status": "completed"
    },
    "tags": []
   },
   "outputs": [
    {
     "data": {
      "text/html": [
       "<div>\n",
       "<style scoped>\n",
       "    .dataframe tbody tr th:only-of-type {\n",
       "        vertical-align: middle;\n",
       "    }\n",
       "\n",
       "    .dataframe tbody tr th {\n",
       "        vertical-align: top;\n",
       "    }\n",
       "\n",
       "    .dataframe thead th {\n",
       "        text-align: right;\n",
       "    }\n",
       "</style>\n",
       "<table border=\"1\" class=\"dataframe\">\n",
       "  <thead>\n",
       "    <tr style=\"text-align: right;\">\n",
       "      <th></th>\n",
       "      <th>item1</th>\n",
       "      <th>item2</th>\n",
       "      <th>item3</th>\n",
       "    </tr>\n",
       "  </thead>\n",
       "  <tbody>\n",
       "    <tr>\n",
       "      <th>Mon</th>\n",
       "      <td>12</td>\n",
       "      <td>15</td>\n",
       "      <td>0</td>\n",
       "    </tr>\n",
       "    <tr>\n",
       "      <th>Tue</th>\n",
       "      <td>3</td>\n",
       "      <td>3</td>\n",
       "      <td>7</td>\n",
       "    </tr>\n",
       "    <tr>\n",
       "      <th>Wed</th>\n",
       "      <td>9</td>\n",
       "      <td>19</td>\n",
       "      <td>18</td>\n",
       "    </tr>\n",
       "    <tr>\n",
       "      <th>Thr</th>\n",
       "      <td>4</td>\n",
       "      <td>6</td>\n",
       "      <td>12</td>\n",
       "    </tr>\n",
       "    <tr>\n",
       "      <th>Fri</th>\n",
       "      <td>1</td>\n",
       "      <td>6</td>\n",
       "      <td>7</td>\n",
       "    </tr>\n",
       "  </tbody>\n",
       "</table>\n",
       "</div>"
      ],
      "text/plain": [
       "     item1  item2  item3\n",
       "Mon     12     15      0\n",
       "Tue      3      3      7\n",
       "Wed      9     19     18\n",
       "Thr      4      6     12\n",
       "Fri      1      6      7"
      ]
     },
     "execution_count": 76,
     "metadata": {},
     "output_type": "execute_result"
    }
   ],
   "source": [
    "weekly_sales = pd.DataFrame(item_amount,index=['Mon','Tue','Wed','Thr','Fri'],columns=['item1','item2','item3'])\n",
    "weekly_sales"
   ]
  },
  {
   "cell_type": "markdown",
   "id": "b599c61b",
   "metadata": {
    "papermill": {
     "duration": 0.029395,
     "end_time": "2023-11-02T17:21:24.379724",
     "exception": false,
     "start_time": "2023-11-02T17:21:24.350329",
     "status": "completed"
    },
    "tags": []
   },
   "source": [
    "# Comparison Operator"
   ]
  },
  {
   "cell_type": "code",
   "execution_count": 77,
   "id": "27fe95bc",
   "metadata": {
    "execution": {
     "iopub.execute_input": "2023-11-02T17:21:24.439042Z",
     "iopub.status.busy": "2023-11-02T17:21:24.437998Z",
     "iopub.status.idle": "2023-11-02T17:21:24.444152Z",
     "shell.execute_reply": "2023-11-02T17:21:24.443302Z"
    },
    "papermill": {
     "duration": 0.037577,
     "end_time": "2023-11-02T17:21:24.446089",
     "exception": false,
     "start_time": "2023-11-02T17:21:24.408512",
     "status": "completed"
    },
    "tags": []
   },
   "outputs": [
    {
     "data": {
      "text/plain": [
       "array([ True, False, False])"
      ]
     },
     "execution_count": 77,
     "metadata": {},
     "output_type": "execute_result"
    }
   ],
   "source": [
    "a1d>5"
   ]
  },
  {
   "cell_type": "code",
   "execution_count": 78,
   "id": "abbcb913",
   "metadata": {
    "execution": {
     "iopub.execute_input": "2023-11-02T17:21:24.506125Z",
     "iopub.status.busy": "2023-11-02T17:21:24.505776Z",
     "iopub.status.idle": "2023-11-02T17:21:24.512017Z",
     "shell.execute_reply": "2023-11-02T17:21:24.511217Z"
    },
    "papermill": {
     "duration": 0.038504,
     "end_time": "2023-11-02T17:21:24.513898",
     "exception": false,
     "start_time": "2023-11-02T17:21:24.475394",
     "status": "completed"
    },
    "tags": []
   },
   "outputs": [
    {
     "data": {
      "text/plain": [
       "array([ True, False, False])"
      ]
     },
     "execution_count": 78,
     "metadata": {},
     "output_type": "execute_result"
    }
   ],
   "source": [
    "a1d>5"
   ]
  },
  {
   "cell_type": "code",
   "execution_count": 79,
   "id": "6caba691",
   "metadata": {
    "execution": {
     "iopub.execute_input": "2023-11-02T17:21:24.574004Z",
     "iopub.status.busy": "2023-11-02T17:21:24.573636Z",
     "iopub.status.idle": "2023-11-02T17:21:24.581321Z",
     "shell.execute_reply": "2023-11-02T17:21:24.580169Z"
    },
    "papermill": {
     "duration": 0.040325,
     "end_time": "2023-11-02T17:21:24.583842",
     "exception": false,
     "start_time": "2023-11-02T17:21:24.543517",
     "status": "completed"
    },
    "tags": []
   },
   "outputs": [
    {
     "data": {
      "text/plain": [
       "array([[False,  True,  True],\n",
       "       [False, False, False]])"
      ]
     },
     "execution_count": 79,
     "metadata": {},
     "output_type": "execute_result"
    }
   ],
   "source": [
    "a1d==a2d"
   ]
  },
  {
   "cell_type": "code",
   "execution_count": 80,
   "id": "dc84a107",
   "metadata": {
    "execution": {
     "iopub.execute_input": "2023-11-02T17:21:24.646238Z",
     "iopub.status.busy": "2023-11-02T17:21:24.645633Z",
     "iopub.status.idle": "2023-11-02T17:21:24.652064Z",
     "shell.execute_reply": "2023-11-02T17:21:24.651229Z"
    },
    "papermill": {
     "duration": 0.038012,
     "end_time": "2023-11-02T17:21:24.654059",
     "exception": false,
     "start_time": "2023-11-02T17:21:24.616047",
     "status": "completed"
    },
    "tags": []
   },
   "outputs": [
    {
     "data": {
      "text/plain": [
       "array([[ True, False, False],\n",
       "       [ True,  True,  True]])"
      ]
     },
     "execution_count": 80,
     "metadata": {},
     "output_type": "execute_result"
    }
   ],
   "source": [
    "a1d!=a2d"
   ]
  },
  {
   "cell_type": "markdown",
   "id": "1e4f1d89",
   "metadata": {
    "papermill": {
     "duration": 0.028166,
     "end_time": "2023-11-02T17:21:24.710526",
     "exception": false,
     "start_time": "2023-11-02T17:21:24.682360",
     "status": "completed"
    },
    "tags": []
   },
   "source": [
    "# Sorting Array"
   ]
  },
  {
   "cell_type": "code",
   "execution_count": 81,
   "id": "0a48d336",
   "metadata": {
    "execution": {
     "iopub.execute_input": "2023-11-02T17:21:24.770748Z",
     "iopub.status.busy": "2023-11-02T17:21:24.770089Z",
     "iopub.status.idle": "2023-11-02T17:21:24.778261Z",
     "shell.execute_reply": "2023-11-02T17:21:24.777072Z"
    },
    "papermill": {
     "duration": 0.04128,
     "end_time": "2023-11-02T17:21:24.781084",
     "exception": false,
     "start_time": "2023-11-02T17:21:24.739804",
     "status": "completed"
    },
    "tags": []
   },
   "outputs": [
    {
     "data": {
      "text/plain": [
       "array([[5, 0, 3, 3, 7],\n",
       "       [9, 3, 5, 2, 4],\n",
       "       [7, 6, 8, 8, 1]])"
      ]
     },
     "execution_count": 81,
     "metadata": {},
     "output_type": "execute_result"
    }
   ],
   "source": [
    "np.random.seed(seed=0)\n",
    "random_matixs= np.random.randint(10,size=(3,5))\n",
    "random_matixs"
   ]
  },
  {
   "cell_type": "code",
   "execution_count": 82,
   "id": "7539d1fd",
   "metadata": {
    "execution": {
     "iopub.execute_input": "2023-11-02T17:21:24.842599Z",
     "iopub.status.busy": "2023-11-02T17:21:24.842067Z",
     "iopub.status.idle": "2023-11-02T17:21:24.849903Z",
     "shell.execute_reply": "2023-11-02T17:21:24.848826Z"
    },
    "papermill": {
     "duration": 0.0408,
     "end_time": "2023-11-02T17:21:24.852397",
     "exception": false,
     "start_time": "2023-11-02T17:21:24.811597",
     "status": "completed"
    },
    "tags": []
   },
   "outputs": [
    {
     "data": {
      "text/plain": [
       "array([[0, 3, 3, 5, 7],\n",
       "       [2, 3, 4, 5, 9],\n",
       "       [1, 6, 7, 8, 8]])"
      ]
     },
     "execution_count": 82,
     "metadata": {},
     "output_type": "execute_result"
    }
   ],
   "source": [
    "np.sort(random_matixs)"
   ]
  },
  {
   "cell_type": "code",
   "execution_count": 83,
   "id": "69d32521",
   "metadata": {
    "execution": {
     "iopub.execute_input": "2023-11-02T17:21:24.912749Z",
     "iopub.status.busy": "2023-11-02T17:21:24.912348Z",
     "iopub.status.idle": "2023-11-02T17:21:24.919738Z",
     "shell.execute_reply": "2023-11-02T17:21:24.918616Z"
    },
    "papermill": {
     "duration": 0.040182,
     "end_time": "2023-11-02T17:21:24.922463",
     "exception": false,
     "start_time": "2023-11-02T17:21:24.882281",
     "status": "completed"
    },
    "tags": []
   },
   "outputs": [
    {
     "data": {
      "text/plain": [
       "array([[5, 0, 3, 2, 1],\n",
       "       [7, 3, 5, 3, 4],\n",
       "       [9, 6, 8, 8, 7]])"
      ]
     },
     "execution_count": 83,
     "metadata": {},
     "output_type": "execute_result"
    }
   ],
   "source": [
    "np.sort(random_matixs,axis=0)"
   ]
  },
  {
   "cell_type": "code",
   "execution_count": 84,
   "id": "a4744731",
   "metadata": {
    "execution": {
     "iopub.execute_input": "2023-11-02T17:21:24.982345Z",
     "iopub.status.busy": "2023-11-02T17:21:24.981964Z",
     "iopub.status.idle": "2023-11-02T17:21:24.988933Z",
     "shell.execute_reply": "2023-11-02T17:21:24.987811Z"
    },
    "papermill": {
     "duration": 0.039403,
     "end_time": "2023-11-02T17:21:24.991174",
     "exception": false,
     "start_time": "2023-11-02T17:21:24.951771",
     "status": "completed"
    },
    "tags": []
   },
   "outputs": [
    {
     "data": {
      "text/plain": [
       "array([[1, 2, 3, 0, 4],\n",
       "       [3, 1, 4, 2, 0],\n",
       "       [4, 1, 0, 2, 3]])"
      ]
     },
     "execution_count": 84,
     "metadata": {},
     "output_type": "execute_result"
    }
   ],
   "source": [
    "np.argsort(random_matixs)"
   ]
  },
  {
   "cell_type": "code",
   "execution_count": 85,
   "id": "df10444a",
   "metadata": {
    "execution": {
     "iopub.execute_input": "2023-11-02T17:21:25.050768Z",
     "iopub.status.busy": "2023-11-02T17:21:25.050337Z",
     "iopub.status.idle": "2023-11-02T17:21:25.057060Z",
     "shell.execute_reply": "2023-11-02T17:21:25.056230Z"
    },
    "papermill": {
     "duration": 0.039307,
     "end_time": "2023-11-02T17:21:25.058990",
     "exception": false,
     "start_time": "2023-11-02T17:21:25.019683",
     "status": "completed"
    },
    "tags": []
   },
   "outputs": [
    {
     "data": {
      "text/plain": [
       "array([1, 3, 4])"
      ]
     },
     "execution_count": 85,
     "metadata": {},
     "output_type": "execute_result"
    }
   ],
   "source": [
    "np.argmin(random_matixs,axis=1)"
   ]
  },
  {
   "cell_type": "code",
   "execution_count": 86,
   "id": "f6edfc67",
   "metadata": {
    "execution": {
     "iopub.execute_input": "2023-11-02T17:21:25.119759Z",
     "iopub.status.busy": "2023-11-02T17:21:25.119369Z",
     "iopub.status.idle": "2023-11-02T17:21:25.126748Z",
     "shell.execute_reply": "2023-11-02T17:21:25.125637Z"
    },
    "papermill": {
     "duration": 0.040956,
     "end_time": "2023-11-02T17:21:25.129081",
     "exception": false,
     "start_time": "2023-11-02T17:21:25.088125",
     "status": "completed"
    },
    "tags": []
   },
   "outputs": [
    {
     "data": {
      "text/plain": [
       "array([[5, 0, 3, 3, 7],\n",
       "       [9, 3, 5, 2, 4],\n",
       "       [7, 6, 8, 8, 1]])"
      ]
     },
     "execution_count": 86,
     "metadata": {},
     "output_type": "execute_result"
    }
   ],
   "source": [
    "random_matixs"
   ]
  },
  {
   "cell_type": "code",
   "execution_count": 87,
   "id": "5607bd9c",
   "metadata": {
    "execution": {
     "iopub.execute_input": "2023-11-02T17:21:25.191041Z",
     "iopub.status.busy": "2023-11-02T17:21:25.190613Z",
     "iopub.status.idle": "2023-11-02T17:21:25.198484Z",
     "shell.execute_reply": "2023-11-02T17:21:25.197097Z"
    },
    "papermill": {
     "duration": 0.04224,
     "end_time": "2023-11-02T17:21:25.201298",
     "exception": false,
     "start_time": "2023-11-02T17:21:25.159058",
     "status": "completed"
    },
    "tags": []
   },
   "outputs": [
    {
     "data": {
      "text/plain": [
       "array([4, 0, 2])"
      ]
     },
     "execution_count": 87,
     "metadata": {},
     "output_type": "execute_result"
    }
   ],
   "source": [
    "np.argmax(random_matixs,axis=1)"
   ]
  },
  {
   "cell_type": "markdown",
   "id": "df2b1f98",
   "metadata": {
    "papermill": {
     "duration": 0.028971,
     "end_time": "2023-11-02T17:21:25.261470",
     "exception": false,
     "start_time": "2023-11-02T17:21:25.232499",
     "status": "completed"
    },
    "tags": []
   },
   "source": [
    "# Image Data Read"
   ]
  },
  {
   "cell_type": "code",
   "execution_count": 88,
   "id": "659341c9",
   "metadata": {
    "execution": {
     "iopub.execute_input": "2023-11-02T17:21:25.322107Z",
     "iopub.status.busy": "2023-11-02T17:21:25.321720Z",
     "iopub.status.idle": "2023-11-02T17:21:25.370633Z",
     "shell.execute_reply": "2023-11-02T17:21:25.369498Z"
    },
    "papermill": {
     "duration": 0.081538,
     "end_time": "2023-11-02T17:21:25.373186",
     "exception": false,
     "start_time": "2023-11-02T17:21:25.291648",
     "status": "completed"
    },
    "tags": []
   },
   "outputs": [
    {
     "data": {
      "text/plain": [
       "array([[[112, 156, 120],\n",
       "        [112, 156, 120],\n",
       "        [112, 156, 120],\n",
       "        ...,\n",
       "        [ 57,  99,  89],\n",
       "        [ 57,  99,  89],\n",
       "        [ 57,  99,  89]],\n",
       "\n",
       "       [[112, 156, 120],\n",
       "        [112, 156, 120],\n",
       "        [112, 156, 120],\n",
       "        ...,\n",
       "        [ 57,  99,  89],\n",
       "        [ 57,  99,  89],\n",
       "        [ 57,  99,  89]],\n",
       "\n",
       "       [[112, 156, 120],\n",
       "        [112, 156, 120],\n",
       "        [112, 156, 120],\n",
       "        ...,\n",
       "        [ 57,  99,  89],\n",
       "        [ 57,  99,  89],\n",
       "        [ 57,  99,  89]],\n",
       "\n",
       "       ...,\n",
       "\n",
       "       [[ 36,  34,   0],\n",
       "        [ 52,  53,  13],\n",
       "        [ 48,  50,  10],\n",
       "        ...,\n",
       "        [ 44,  54,   2],\n",
       "        [ 42,  54,   4],\n",
       "        [ 42,  54,   4]],\n",
       "\n",
       "       [[ 63,  59,  24],\n",
       "        [ 58,  54,  17],\n",
       "        [ 33,  31,   0],\n",
       "        ...,\n",
       "        [ 45,  55,   3],\n",
       "        [ 43,  55,   5],\n",
       "        [ 43,  55,   7]],\n",
       "\n",
       "       [[126, 120,  86],\n",
       "        [ 91,  87,  52],\n",
       "        [ 41,  37,   0],\n",
       "        ...,\n",
       "        [ 45,  55,   3],\n",
       "        [ 44,  56,   8],\n",
       "        [ 44,  56,   8]]], dtype=uint8)"
      ]
     },
     "execution_count": 88,
     "metadata": {},
     "output_type": "execute_result"
    }
   ],
   "source": [
    "from matplotlib.pyplot import imread\n",
    "\n",
    "img_data = imread('/kaggle/input/landscape-pictures/00000001.jpg')\n",
    "\n",
    "img_data"
   ]
  },
  {
   "cell_type": "code",
   "execution_count": 89,
   "id": "92938240",
   "metadata": {
    "execution": {
     "iopub.execute_input": "2023-11-02T17:21:25.435447Z",
     "iopub.status.busy": "2023-11-02T17:21:25.435028Z",
     "iopub.status.idle": "2023-11-02T17:21:25.939355Z",
     "shell.execute_reply": "2023-11-02T17:21:25.937826Z"
    },
    "papermill": {
     "duration": 0.541108,
     "end_time": "2023-11-02T17:21:25.943804",
     "exception": false,
     "start_time": "2023-11-02T17:21:25.402696",
     "status": "completed"
    },
    "tags": []
   },
   "outputs": [
    {
     "data": {
      "image/png": "[encoded data removed]",
      "text/plain": [
       "<Figure size 640x480 with 1 Axes>"
      ]
     },
     "metadata": {},
     "output_type": "display_data"
    }
   ],
   "source": [
    "import matplotlib.pyplot as plt\n",
    "plt.figure()\n",
    "plt.imshow(img_data)\n",
    "plt.show()"
   ]
  },
  {
   "cell_type": "code",
   "execution_count": 90,
   "id": "4bcd1a98",
   "metadata": {
    "execution": {
     "iopub.execute_input": "2023-11-02T17:21:26.013234Z",
     "iopub.status.busy": "2023-11-02T17:21:26.011989Z",
     "iopub.status.idle": "2023-11-02T17:21:26.018528Z",
     "shell.execute_reply": "2023-11-02T17:21:26.017691Z"
    },
    "papermill": {
     "duration": 0.043187,
     "end_time": "2023-11-02T17:21:26.020453",
     "exception": false,
     "start_time": "2023-11-02T17:21:25.977266",
     "status": "completed"
    },
    "tags": []
   },
   "outputs": [
    {
     "data": {
      "text/plain": [
       "(1024, 1024, 3)"
      ]
     },
     "execution_count": 90,
     "metadata": {},
     "output_type": "execute_result"
    }
   ],
   "source": [
    "img_data.shape"
   ]
  },
  {
   "cell_type": "code",
   "execution_count": null,
   "id": "5ff3fcc4",
   "metadata": {
    "papermill": {
     "duration": 0.033607,
     "end_time": "2023-11-02T17:21:26.087101",
     "exception": false,
     "start_time": "2023-11-02T17:21:26.053494",
     "status": "completed"
    },
    "tags": []
   },
   "outputs": [],
   "source": []
  }
 ],
 "metadata": {
  "kernelspec": {
   "display_name": "Python 3",
   "language": "python",
   "name": "python3"
  },
  "language_info": {
   "codemirror_mode": {
    "name": "ipython",
    "version": 3
   },
   "file_extension": ".py",
   "mimetype": "text/x-python",
   "name": "python",
   "nbconvert_exporter": "python",
   "pygments_lexer": "ipython3",
   "version": "3.10.12"
  },
  "papermill": {
   "default_parameters": {},
   "duration": 23.661156,
   "end_time": "2023-11-02T17:21:26.639416",
   "environment_variables": {},
   "exception": null,
   "input_path": "__notebook__.ipynb",
   "output_path": "__notebook__.ipynb",
   "parameters": {},
   "start_time": "2023-11-02T17:21:02.978260",
   "version": "2.4.0"
  }
 },
 "nbformat": 4,
 "nbformat_minor": 5
}
