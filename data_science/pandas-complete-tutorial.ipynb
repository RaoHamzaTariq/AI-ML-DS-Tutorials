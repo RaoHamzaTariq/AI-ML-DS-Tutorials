{
 "cells": [
  {
   "cell_type": "code",
   "execution_count": 1,
   "id": "0b4f2fcb",
   "metadata": {
    "_cell_guid": "b1076dfc-b9ad-4769-8c92-a6c4dae69d19",
    "_uuid": "8f2839f25d086af736a60e9eeb907d3b93b6e0e5",
    "execution": {
     "iopub.execute_input": "2023-11-02T09:37:02.993326Z",
     "iopub.status.busy": "2023-11-02T09:37:02.992914Z",
     "iopub.status.idle": "2023-11-02T09:37:03.351567Z",
     "shell.execute_reply": "2023-11-02T09:37:03.350374Z"
    },
    "papermill": {
     "duration": 0.370634,
     "end_time": "2023-11-02T09:37:03.354266",
     "exception": false,
     "start_time": "2023-11-02T09:37:02.983632",
     "status": "completed"
    },
    "tags": []
   },
   "outputs": [],
   "source": [
    "# This Python 3 environment comes with many helpful analytics libraries installed\n",
    "# It is defined by the kaggle/python Docker image: https://github.com/kaggle/docker-python\n",
    "# For example, here's several helpful packages to load\n",
    "\n",
    "import numpy as np # linear algebra\n",
    "import pandas as pd # data processing, CSV file I/O (e.g. pd.read_csv)\n",
    "\n",
    "# Input data files are available in the read-only \"../input/\" directory\n",
    "# For example, running this (by clicking run or pressing Shift+Enter) will list all files under the input directory\n",
    "\n",
    "import os\n",
    "for dirname, _, filenames in os.walk('/kaggle/input'):\n",
    "    for filename in filenames:\n",
    "        print(os.path.join(dirname, filename))\n",
    "\n",
    "# You can write up to 20GB to the current directory (/kaggle/working/) that gets preserved as output when you create a version using \"Save & Run All\" \n",
    "# You can also write temporary files to /kaggle/temp/, but they won't be saved outside of the current session"
   ]
  },
  {
   "cell_type": "code",
   "execution_count": 2,
   "id": "616b44b8",
   "metadata": {
    "execution": {
     "iopub.execute_input": "2023-11-02T09:37:03.371772Z",
     "iopub.status.busy": "2023-11-02T09:37:03.371266Z",
     "iopub.status.idle": "2023-11-02T09:37:03.389956Z",
     "shell.execute_reply": "2023-11-02T09:37:03.388884Z"
    },
    "papermill": {
     "duration": 0.029648,
     "end_time": "2023-11-02T09:37:03.392244",
     "exception": false,
     "start_time": "2023-11-02T09:37:03.362596",
     "status": "completed"
    },
    "tags": []
   },
   "outputs": [
    {
     "name": "stdout",
     "output_type": "stream",
     "text": [
      "  StudentName  Age\n",
      "0       Alice   22\n",
      "1         Bob   24\n",
      "2       Carol   23\n",
      "3       David   25\n"
     ]
    }
   ],
   "source": [
    "import pandas as pd\n",
    "\n",
    "# Create a dictionary with student names and ages\n",
    "data = {\n",
    "    'StudentName': ['Alice', 'Bob', 'Carol', 'David'],\n",
    "    'Age': [22, 24, 23, 25]\n",
    "}\n",
    "\n",
    "# Create a DataFrame from the dictionary\n",
    "student_df = pd.DataFrame(data)\n",
    "\n",
    "# Print the DataFrame\n",
    "print(student_df)\n"
   ]
  },
  {
   "cell_type": "code",
   "execution_count": 3,
   "id": "58693b6d",
   "metadata": {
    "execution": {
     "iopub.execute_input": "2023-11-02T09:37:03.408574Z",
     "iopub.status.busy": "2023-11-02T09:37:03.407653Z",
     "iopub.status.idle": "2023-11-02T09:37:03.420210Z",
     "shell.execute_reply": "2023-11-02T09:37:03.419106Z"
    },
    "papermill": {
     "duration": 0.023387,
     "end_time": "2023-11-02T09:37:03.422738",
     "exception": false,
     "start_time": "2023-11-02T09:37:03.399351",
     "status": "completed"
    },
    "tags": []
   },
   "outputs": [
    {
     "name": "stdout",
     "output_type": "stream",
     "text": [
      "  StudentName  Age\n",
      "1         Bob   24\n",
      "3       David   25\n"
     ]
    }
   ],
   "source": [
    "# Select students older than 23\n",
    "older_students = student_df[student_df['Age'] > 23]\n",
    "\n",
    "# Print the selected rows\n",
    "print(older_students)\n"
   ]
  },
  {
   "cell_type": "code",
   "execution_count": 4,
   "id": "455d73ff",
   "metadata": {
    "execution": {
     "iopub.execute_input": "2023-11-02T09:37:03.438826Z",
     "iopub.status.busy": "2023-11-02T09:37:03.437911Z",
     "iopub.status.idle": "2023-11-02T09:37:03.447743Z",
     "shell.execute_reply": "2023-11-02T09:37:03.446558Z"
    },
    "papermill": {
     "duration": 0.020197,
     "end_time": "2023-11-02T09:37:03.449925",
     "exception": false,
     "start_time": "2023-11-02T09:37:03.429728",
     "status": "completed"
    },
    "tags": []
   },
   "outputs": [
    {
     "name": "stdout",
     "output_type": "stream",
     "text": [
      "Average GPA: 3.5800000000000005\n",
      "Maximum Age: 23\n",
      "Minimum Age: 20\n"
     ]
    }
   ],
   "source": [
    "import pandas as pd\n",
    "\n",
    "# Sample student data\n",
    "data = {'Name': ['Alice', 'Bob', 'Carol', 'David', 'Eve'],\n",
    "        'Age': [22, 20, 21, 23, 22],\n",
    "        'GPA': [3.5, 3.2, 3.7, 3.9, 3.6]}\n",
    "\n",
    "# Create a DataFrame\n",
    "student_df = pd.DataFrame(data)\n",
    "\n",
    "# Calculate and print the average GPA\n",
    "average_gpa = student_df['GPA'].mean()\n",
    "print(\"Average GPA:\", average_gpa)\n",
    "\n",
    "# Calculate and print the maximum age\n",
    "max_age = student_df['Age'].max()\n",
    "print(\"Maximum Age:\", max_age)\n",
    "\n",
    "# Calculate and print the minimum age\n",
    "min_age = student_df['Age'].min()\n",
    "print(\"Minimum Age:\", min_age)\n"
   ]
  },
  {
   "cell_type": "markdown",
   "id": "5cc2ff87",
   "metadata": {
    "papermill": {
     "duration": 0.006777,
     "end_time": "2023-11-02T09:37:03.463804",
     "exception": false,
     "start_time": "2023-11-02T09:37:03.457027",
     "status": "completed"
    },
    "tags": []
   },
   "source": [
    "# Exercise 1: DataFrame Manipulation"
   ]
  },
  {
   "cell_type": "code",
   "execution_count": 5,
   "id": "cba12768",
   "metadata": {
    "execution": {
     "iopub.execute_input": "2023-11-02T09:37:03.480497Z",
     "iopub.status.busy": "2023-11-02T09:37:03.479695Z",
     "iopub.status.idle": "2023-11-02T09:37:03.498506Z",
     "shell.execute_reply": "2023-11-02T09:37:03.497433Z"
    },
    "papermill": {
     "duration": 0.029555,
     "end_time": "2023-11-02T09:37:03.500762",
     "exception": false,
     "start_time": "2023-11-02T09:37:03.471207",
     "status": "completed"
    },
    "tags": []
   },
   "outputs": [
    {
     "data": {
      "text/html": [
       "<div>\n",
       "<style scoped>\n",
       "    .dataframe tbody tr th:only-of-type {\n",
       "        vertical-align: middle;\n",
       "    }\n",
       "\n",
       "    .dataframe tbody tr th {\n",
       "        vertical-align: top;\n",
       "    }\n",
       "\n",
       "    .dataframe thead th {\n",
       "        text-align: right;\n",
       "    }\n",
       "</style>\n",
       "<table border=\"1\" class=\"dataframe\">\n",
       "  <thead>\n",
       "    <tr style=\"text-align: right;\">\n",
       "      <th></th>\n",
       "      <th>EmployeeID</th>\n",
       "      <th>FirstName</th>\n",
       "      <th>LastName</th>\n",
       "      <th>Department</th>\n",
       "      <th>Salary</th>\n",
       "      <th>HireDate</th>\n",
       "    </tr>\n",
       "  </thead>\n",
       "  <tbody>\n",
       "    <tr>\n",
       "      <th>0</th>\n",
       "      <td>101</td>\n",
       "      <td>John</td>\n",
       "      <td>Smith</td>\n",
       "      <td>HR</td>\n",
       "      <td>55000</td>\n",
       "      <td>2020-03-15</td>\n",
       "    </tr>\n",
       "    <tr>\n",
       "      <th>1</th>\n",
       "      <td>102</td>\n",
       "      <td>Jane</td>\n",
       "      <td>Doe</td>\n",
       "      <td>IT</td>\n",
       "      <td>60000</td>\n",
       "      <td>2019-06-10</td>\n",
       "    </tr>\n",
       "    <tr>\n",
       "      <th>2</th>\n",
       "      <td>103</td>\n",
       "      <td>Bob</td>\n",
       "      <td>Johnson</td>\n",
       "      <td>Finance</td>\n",
       "      <td>62000</td>\n",
       "      <td>2021-01-20</td>\n",
       "    </tr>\n",
       "    <tr>\n",
       "      <th>3</th>\n",
       "      <td>104</td>\n",
       "      <td>Alice</td>\n",
       "      <td>Johnson</td>\n",
       "      <td>IT</td>\n",
       "      <td>58000</td>\n",
       "      <td>2022-04-05</td>\n",
       "    </tr>\n",
       "    <tr>\n",
       "      <th>4</th>\n",
       "      <td>105</td>\n",
       "      <td>Eve</td>\n",
       "      <td>Brown</td>\n",
       "      <td>Marketing</td>\n",
       "      <td>54000</td>\n",
       "      <td>2018-09-30</td>\n",
       "    </tr>\n",
       "  </tbody>\n",
       "</table>\n",
       "</div>"
      ],
      "text/plain": [
       "   EmployeeID FirstName LastName Department  Salary    HireDate\n",
       "0         101      John    Smith         HR   55000  2020-03-15\n",
       "1         102      Jane      Doe         IT   60000  2019-06-10\n",
       "2         103       Bob  Johnson    Finance   62000  2021-01-20\n",
       "3         104     Alice  Johnson         IT   58000  2022-04-05\n",
       "4         105       Eve    Brown  Marketing   54000  2018-09-30"
      ]
     },
     "execution_count": 5,
     "metadata": {},
     "output_type": "execute_result"
    }
   ],
   "source": [
    "import pandas as pd\n",
    "\n",
    "data = {\n",
    "    'EmployeeID': [101, 102, 103, 104, 105],\n",
    "    'FirstName': ['John', 'Jane', 'Bob', 'Alice', 'Eve'],\n",
    "    'LastName': ['Smith', 'Doe', 'Johnson', 'Johnson', 'Brown'],\n",
    "    'Department': ['HR', 'IT', 'Finance', 'IT', 'Marketing'],\n",
    "    'Salary': [55000, 60000, 62000, 58000, 54000],\n",
    "    'HireDate': ['2020-03-15', '2019-06-10', '2021-01-20', '2022-04-05', '2018-09-30']\n",
    "}\n",
    "\n",
    "df = pd.DataFrame(data)\n",
    "df\n"
   ]
  },
  {
   "cell_type": "code",
   "execution_count": 6,
   "id": "2277e9ba",
   "metadata": {
    "execution": {
     "iopub.execute_input": "2023-11-02T09:37:03.517763Z",
     "iopub.status.busy": "2023-11-02T09:37:03.517036Z",
     "iopub.status.idle": "2023-11-02T09:37:03.523477Z",
     "shell.execute_reply": "2023-11-02T09:37:03.522457Z"
    },
    "papermill": {
     "duration": 0.017632,
     "end_time": "2023-11-02T09:37:03.525630",
     "exception": false,
     "start_time": "2023-11-02T09:37:03.507998",
     "status": "completed"
    },
    "tags": []
   },
   "outputs": [
    {
     "name": "stdout",
     "output_type": "stream",
     "text": [
      "Average Salary is 57800.0\n"
     ]
    }
   ],
   "source": [
    "# a Calculate and print the average salary of all employees.\n",
    "Average_Salary = df['Salary'].mean()\n",
    "print(f'Average Salary is {Average_Salary}')"
   ]
  },
  {
   "cell_type": "code",
   "execution_count": 7,
   "id": "b0405418",
   "metadata": {
    "execution": {
     "iopub.execute_input": "2023-11-02T09:37:03.542359Z",
     "iopub.status.busy": "2023-11-02T09:37:03.541740Z",
     "iopub.status.idle": "2023-11-02T09:37:03.552684Z",
     "shell.execute_reply": "2023-11-02T09:37:03.551669Z"
    },
    "papermill": {
     "duration": 0.021611,
     "end_time": "2023-11-02T09:37:03.554729",
     "exception": false,
     "start_time": "2023-11-02T09:37:03.533118",
     "status": "completed"
    },
    "tags": []
   },
   "outputs": [
    {
     "data": {
      "text/html": [
       "<div>\n",
       "<style scoped>\n",
       "    .dataframe tbody tr th:only-of-type {\n",
       "        vertical-align: middle;\n",
       "    }\n",
       "\n",
       "    .dataframe tbody tr th {\n",
       "        vertical-align: top;\n",
       "    }\n",
       "\n",
       "    .dataframe thead th {\n",
       "        text-align: right;\n",
       "    }\n",
       "</style>\n",
       "<table border=\"1\" class=\"dataframe\">\n",
       "  <thead>\n",
       "    <tr style=\"text-align: right;\">\n",
       "      <th></th>\n",
       "      <th>EmployeeID</th>\n",
       "      <th>FirstName</th>\n",
       "      <th>LastName</th>\n",
       "      <th>Department</th>\n",
       "      <th>Salary</th>\n",
       "      <th>HireDate</th>\n",
       "    </tr>\n",
       "  </thead>\n",
       "  <tbody>\n",
       "    <tr>\n",
       "      <th>2</th>\n",
       "      <td>103</td>\n",
       "      <td>Bob</td>\n",
       "      <td>Johnson</td>\n",
       "      <td>Finance</td>\n",
       "      <td>62000</td>\n",
       "      <td>2021-01-20</td>\n",
       "    </tr>\n",
       "  </tbody>\n",
       "</table>\n",
       "</div>"
      ],
      "text/plain": [
       "   EmployeeID FirstName LastName Department  Salary    HireDate\n",
       "2         103       Bob  Johnson    Finance   62000  2021-01-20"
      ]
     },
     "execution_count": 7,
     "metadata": {},
     "output_type": "execute_result"
    }
   ],
   "source": [
    "# b Find and print the employee(s) with the highest salary.\n",
    "\n",
    "\n",
    "highest_salary_employee = df[df['Salary'] == df['Salary'].max()]\n",
    "highest_salary_employee\n"
   ]
  },
  {
   "cell_type": "code",
   "execution_count": 8,
   "id": "c1226887",
   "metadata": {
    "execution": {
     "iopub.execute_input": "2023-11-02T09:37:03.571694Z",
     "iopub.status.busy": "2023-11-02T09:37:03.570985Z",
     "iopub.status.idle": "2023-11-02T09:37:03.592535Z",
     "shell.execute_reply": "2023-11-02T09:37:03.591705Z"
    },
    "papermill": {
     "duration": 0.032365,
     "end_time": "2023-11-02T09:37:03.594568",
     "exception": false,
     "start_time": "2023-11-02T09:37:03.562203",
     "status": "completed"
    },
    "tags": []
   },
   "outputs": [
    {
     "data": {
      "text/html": [
       "<div>\n",
       "<style scoped>\n",
       "    .dataframe tbody tr th:only-of-type {\n",
       "        vertical-align: middle;\n",
       "    }\n",
       "\n",
       "    .dataframe tbody tr th {\n",
       "        vertical-align: top;\n",
       "    }\n",
       "\n",
       "    .dataframe thead th {\n",
       "        text-align: right;\n",
       "    }\n",
       "</style>\n",
       "<table border=\"1\" class=\"dataframe\">\n",
       "  <thead>\n",
       "    <tr style=\"text-align: right;\">\n",
       "      <th></th>\n",
       "      <th>EmployeeID</th>\n",
       "      <th>FirstName</th>\n",
       "      <th>LastName</th>\n",
       "      <th>Department</th>\n",
       "      <th>Salary</th>\n",
       "      <th>HireDate</th>\n",
       "    </tr>\n",
       "  </thead>\n",
       "  <tbody>\n",
       "    <tr>\n",
       "      <th>2</th>\n",
       "      <td>103</td>\n",
       "      <td>Bob</td>\n",
       "      <td>Johnson</td>\n",
       "      <td>Finance</td>\n",
       "      <td>62000</td>\n",
       "      <td>2021-01-20</td>\n",
       "    </tr>\n",
       "    <tr>\n",
       "      <th>3</th>\n",
       "      <td>104</td>\n",
       "      <td>Alice</td>\n",
       "      <td>Johnson</td>\n",
       "      <td>IT</td>\n",
       "      <td>58000</td>\n",
       "      <td>2022-04-05</td>\n",
       "    </tr>\n",
       "  </tbody>\n",
       "</table>\n",
       "</div>"
      ],
      "text/plain": [
       "   EmployeeID FirstName LastName Department  Salary   HireDate\n",
       "2         103       Bob  Johnson    Finance   62000 2021-01-20\n",
       "3         104     Alice  Johnson         IT   58000 2022-04-05"
      ]
     },
     "execution_count": 8,
     "metadata": {},
     "output_type": "execute_result"
    }
   ],
   "source": [
    " # c Find and print the employee(s) who were hired in 2021 or later.\n",
    "\n",
    "\n",
    "df['HireDate'] = pd.to_datetime(df['HireDate'])\n",
    "new_employees = df[df['HireDate'] >= '2021-01-01']\n",
    "new_employees"
   ]
  },
  {
   "cell_type": "markdown",
   "id": "0c06a3d1",
   "metadata": {
    "papermill": {
     "duration": 0.007298,
     "end_time": "2023-11-02T09:37:03.609742",
     "exception": false,
     "start_time": "2023-11-02T09:37:03.602444",
     "status": "completed"
    },
    "tags": []
   },
   "source": [
    "# Exercise 2: Data Filtering"
   ]
  },
  {
   "cell_type": "code",
   "execution_count": 9,
   "id": "4c508b31",
   "metadata": {
    "execution": {
     "iopub.execute_input": "2023-11-02T09:37:03.627199Z",
     "iopub.status.busy": "2023-11-02T09:37:03.626547Z",
     "iopub.status.idle": "2023-11-02T09:37:03.638457Z",
     "shell.execute_reply": "2023-11-02T09:37:03.637639Z"
    },
    "papermill": {
     "duration": 0.023012,
     "end_time": "2023-11-02T09:37:03.640384",
     "exception": false,
     "start_time": "2023-11-02T09:37:03.617372",
     "status": "completed"
    },
    "tags": []
   },
   "outputs": [
    {
     "data": {
      "text/html": [
       "<div>\n",
       "<style scoped>\n",
       "    .dataframe tbody tr th:only-of-type {\n",
       "        vertical-align: middle;\n",
       "    }\n",
       "\n",
       "    .dataframe tbody tr th {\n",
       "        vertical-align: top;\n",
       "    }\n",
       "\n",
       "    .dataframe thead th {\n",
       "        text-align: right;\n",
       "    }\n",
       "</style>\n",
       "<table border=\"1\" class=\"dataframe\">\n",
       "  <thead>\n",
       "    <tr style=\"text-align: right;\">\n",
       "      <th></th>\n",
       "      <th>CarModel</th>\n",
       "      <th>Year</th>\n",
       "      <th>Price</th>\n",
       "      <th>Mileage</th>\n",
       "      <th>Color</th>\n",
       "    </tr>\n",
       "  </thead>\n",
       "  <tbody>\n",
       "    <tr>\n",
       "      <th>0</th>\n",
       "      <td>Toyota Camry</td>\n",
       "      <td>2020</td>\n",
       "      <td>25000</td>\n",
       "      <td>15000</td>\n",
       "      <td>Blue</td>\n",
       "    </tr>\n",
       "    <tr>\n",
       "      <th>1</th>\n",
       "      <td>Honda Accord</td>\n",
       "      <td>2022</td>\n",
       "      <td>28000</td>\n",
       "      <td>1000</td>\n",
       "      <td>White</td>\n",
       "    </tr>\n",
       "    <tr>\n",
       "      <th>2</th>\n",
       "      <td>Ford Focus</td>\n",
       "      <td>2021</td>\n",
       "      <td>22000</td>\n",
       "      <td>8000</td>\n",
       "      <td>Red</td>\n",
       "    </tr>\n",
       "    <tr>\n",
       "      <th>3</th>\n",
       "      <td>Toyota Camry</td>\n",
       "      <td>2019</td>\n",
       "      <td>23000</td>\n",
       "      <td>22000</td>\n",
       "      <td>Gray</td>\n",
       "    </tr>\n",
       "    <tr>\n",
       "      <th>4</th>\n",
       "      <td>Honda Civic</td>\n",
       "      <td>2020</td>\n",
       "      <td>19500</td>\n",
       "      <td>3000</td>\n",
       "      <td>Black</td>\n",
       "    </tr>\n",
       "  </tbody>\n",
       "</table>\n",
       "</div>"
      ],
      "text/plain": [
       "       CarModel  Year  Price  Mileage  Color\n",
       "0  Toyota Camry  2020  25000    15000   Blue\n",
       "1  Honda Accord  2022  28000     1000  White\n",
       "2    Ford Focus  2021  22000     8000    Red\n",
       "3  Toyota Camry  2019  23000    22000   Gray\n",
       "4   Honda Civic  2020  19500     3000  Black"
      ]
     },
     "execution_count": 9,
     "metadata": {},
     "output_type": "execute_result"
    }
   ],
   "source": [
    "import pandas as pd\n",
    "\n",
    "data = {\n",
    "    'CarModel': ['Toyota Camry', 'Honda Accord', 'Ford Focus', 'Toyota Camry', 'Honda Civic'],\n",
    "    'Year': [2020, 2022, 2021, 2019, 2020],\n",
    "    'Price': [25000, 28000, 22000, 23000, 19500],\n",
    "    'Mileage': [15000, 1000, 8000, 22000, 3000],\n",
    "    'Color': ['Blue', 'White', 'Red', 'Gray', 'Black']\n",
    "}\n",
    "\n",
    "car = pd.DataFrame(data)\n",
    "car"
   ]
  },
  {
   "cell_type": "code",
   "execution_count": 10,
   "id": "0cc1d29a",
   "metadata": {
    "execution": {
     "iopub.execute_input": "2023-11-02T09:37:03.658101Z",
     "iopub.status.busy": "2023-11-02T09:37:03.657671Z",
     "iopub.status.idle": "2023-11-02T09:37:03.672935Z",
     "shell.execute_reply": "2023-11-02T09:37:03.671857Z"
    },
    "papermill": {
     "duration": 0.027041,
     "end_time": "2023-11-02T09:37:03.675429",
     "exception": false,
     "start_time": "2023-11-02T09:37:03.648388",
     "status": "completed"
    },
    "tags": []
   },
   "outputs": [
    {
     "data": {
      "text/html": [
       "<div>\n",
       "<style scoped>\n",
       "    .dataframe tbody tr th:only-of-type {\n",
       "        vertical-align: middle;\n",
       "    }\n",
       "\n",
       "    .dataframe tbody tr th {\n",
       "        vertical-align: top;\n",
       "    }\n",
       "\n",
       "    .dataframe thead th {\n",
       "        text-align: right;\n",
       "    }\n",
       "</style>\n",
       "<table border=\"1\" class=\"dataframe\">\n",
       "  <thead>\n",
       "    <tr style=\"text-align: right;\">\n",
       "      <th></th>\n",
       "      <th>CarModel</th>\n",
       "      <th>Year</th>\n",
       "      <th>Price</th>\n",
       "      <th>Mileage</th>\n",
       "      <th>Color</th>\n",
       "    </tr>\n",
       "  </thead>\n",
       "  <tbody>\n",
       "    <tr>\n",
       "      <th>0</th>\n",
       "      <td>Toyota Camry</td>\n",
       "      <td>2020</td>\n",
       "      <td>25000</td>\n",
       "      <td>15000</td>\n",
       "      <td>Blue</td>\n",
       "    </tr>\n",
       "    <tr>\n",
       "      <th>3</th>\n",
       "      <td>Toyota Camry</td>\n",
       "      <td>2019</td>\n",
       "      <td>23000</td>\n",
       "      <td>22000</td>\n",
       "      <td>Gray</td>\n",
       "    </tr>\n",
       "    <tr>\n",
       "      <th>4</th>\n",
       "      <td>Honda Civic</td>\n",
       "      <td>2020</td>\n",
       "      <td>19500</td>\n",
       "      <td>3000</td>\n",
       "      <td>Black</td>\n",
       "    </tr>\n",
       "  </tbody>\n",
       "</table>\n",
       "</div>"
      ],
      "text/plain": [
       "       CarModel  Year  Price  Mileage  Color\n",
       "0  Toyota Camry  2020  25000    15000   Blue\n",
       "3  Toyota Camry  2019  23000    22000   Gray\n",
       "4   Honda Civic  2020  19500     3000  Black"
      ]
     },
     "execution_count": 10,
     "metadata": {},
     "output_type": "execute_result"
    }
   ],
   "source": [
    "# a Filter and print the cars that are either Toyota Camry or Honda Civic\n",
    "car_selection = car.loc[car.CarModel.isin(['Toyota Camry','Honda Civic'])]\n",
    "car_selection"
   ]
  },
  {
   "cell_type": "code",
   "execution_count": 11,
   "id": "3f3de676",
   "metadata": {
    "execution": {
     "iopub.execute_input": "2023-11-02T09:37:03.694606Z",
     "iopub.status.busy": "2023-11-02T09:37:03.693788Z",
     "iopub.status.idle": "2023-11-02T09:37:03.701555Z",
     "shell.execute_reply": "2023-11-02T09:37:03.700766Z"
    },
    "papermill": {
     "duration": 0.01991,
     "end_time": "2023-11-02T09:37:03.703566",
     "exception": false,
     "start_time": "2023-11-02T09:37:03.683656",
     "status": "completed"
    },
    "tags": []
   },
   "outputs": [
    {
     "data": {
      "text/plain": [
       "22250.0"
      ]
     },
     "execution_count": 11,
     "metadata": {},
     "output_type": "execute_result"
    }
   ],
   "source": [
    "# b Find and print the average price of cars from the year 2020.\n",
    "avg_price_2020 = car[car['Year']==2020].Price.mean()\n",
    "avg_price_2020"
   ]
  },
  {
   "cell_type": "code",
   "execution_count": 12,
   "id": "f55f402f",
   "metadata": {
    "execution": {
     "iopub.execute_input": "2023-11-02T09:37:03.722912Z",
     "iopub.status.busy": "2023-11-02T09:37:03.722580Z",
     "iopub.status.idle": "2023-11-02T09:37:03.735260Z",
     "shell.execute_reply": "2023-11-02T09:37:03.734129Z"
    },
    "papermill": {
     "duration": 0.025672,
     "end_time": "2023-11-02T09:37:03.737358",
     "exception": false,
     "start_time": "2023-11-02T09:37:03.711686",
     "status": "completed"
    },
    "tags": []
   },
   "outputs": [
    {
     "data": {
      "text/html": [
       "<div>\n",
       "<style scoped>\n",
       "    .dataframe tbody tr th:only-of-type {\n",
       "        vertical-align: middle;\n",
       "    }\n",
       "\n",
       "    .dataframe tbody tr th {\n",
       "        vertical-align: top;\n",
       "    }\n",
       "\n",
       "    .dataframe thead th {\n",
       "        text-align: right;\n",
       "    }\n",
       "</style>\n",
       "<table border=\"1\" class=\"dataframe\">\n",
       "  <thead>\n",
       "    <tr style=\"text-align: right;\">\n",
       "      <th></th>\n",
       "      <th>CarModel</th>\n",
       "      <th>Year</th>\n",
       "      <th>Price</th>\n",
       "      <th>Mileage</th>\n",
       "      <th>Color</th>\n",
       "    </tr>\n",
       "  </thead>\n",
       "  <tbody>\n",
       "    <tr>\n",
       "      <th>2</th>\n",
       "      <td>Ford Focus</td>\n",
       "      <td>2021</td>\n",
       "      <td>22000</td>\n",
       "      <td>8000</td>\n",
       "      <td>Red</td>\n",
       "    </tr>\n",
       "    <tr>\n",
       "      <th>4</th>\n",
       "      <td>Honda Civic</td>\n",
       "      <td>2020</td>\n",
       "      <td>19500</td>\n",
       "      <td>3000</td>\n",
       "      <td>Black</td>\n",
       "    </tr>\n",
       "  </tbody>\n",
       "</table>\n",
       "</div>"
      ],
      "text/plain": [
       "      CarModel  Year  Price  Mileage  Color\n",
       "2   Ford Focus  2021  22000     8000    Red\n",
       "4  Honda Civic  2020  19500     3000  Black"
      ]
     },
     "execution_count": 12,
     "metadata": {},
     "output_type": "execute_result"
    }
   ],
   "source": [
    "# c  Filter and print the cars that have a price less than $24,000 and mileage less than 10,000.\n",
    "Best_car = car.loc[(car['Price'] < 24000)&(car['Mileage'] < 10000)]\n",
    "Best_car"
   ]
  },
  {
   "cell_type": "markdown",
   "id": "376ef5b7",
   "metadata": {
    "papermill": {
     "duration": 0.007973,
     "end_time": "2023-11-02T09:37:03.753732",
     "exception": false,
     "start_time": "2023-11-02T09:37:03.745759",
     "status": "completed"
    },
    "tags": []
   },
   "source": [
    "# Exercise 3: Sales Data Analysis"
   ]
  },
  {
   "cell_type": "code",
   "execution_count": 13,
   "id": "a1c5785a",
   "metadata": {
    "execution": {
     "iopub.execute_input": "2023-11-02T09:37:03.772510Z",
     "iopub.status.busy": "2023-11-02T09:37:03.771853Z",
     "iopub.status.idle": "2023-11-02T09:37:03.786316Z",
     "shell.execute_reply": "2023-11-02T09:37:03.785320Z"
    },
    "papermill": {
     "duration": 0.026318,
     "end_time": "2023-11-02T09:37:03.788497",
     "exception": false,
     "start_time": "2023-11-02T09:37:03.762179",
     "status": "completed"
    },
    "tags": []
   },
   "outputs": [
    {
     "data": {
      "text/html": [
       "<div>\n",
       "<style scoped>\n",
       "    .dataframe tbody tr th:only-of-type {\n",
       "        vertical-align: middle;\n",
       "    }\n",
       "\n",
       "    .dataframe tbody tr th {\n",
       "        vertical-align: top;\n",
       "    }\n",
       "\n",
       "    .dataframe thead th {\n",
       "        text-align: right;\n",
       "    }\n",
       "</style>\n",
       "<table border=\"1\" class=\"dataframe\">\n",
       "  <thead>\n",
       "    <tr style=\"text-align: right;\">\n",
       "      <th></th>\n",
       "      <th>OrderDate</th>\n",
       "      <th>ProductID</th>\n",
       "      <th>ProductName</th>\n",
       "      <th>Category</th>\n",
       "      <th>Quantity</th>\n",
       "      <th>Price</th>\n",
       "      <th>CustomerID</th>\n",
       "      <th>CustomerName</th>\n",
       "    </tr>\n",
       "  </thead>\n",
       "  <tbody>\n",
       "    <tr>\n",
       "      <th>0</th>\n",
       "      <td>2023-01-01</td>\n",
       "      <td>101</td>\n",
       "      <td>Product A</td>\n",
       "      <td>Electronics</td>\n",
       "      <td>2</td>\n",
       "      <td>500</td>\n",
       "      <td>1</td>\n",
       "      <td>Alice</td>\n",
       "    </tr>\n",
       "    <tr>\n",
       "      <th>1</th>\n",
       "      <td>2023-01-02</td>\n",
       "      <td>102</td>\n",
       "      <td>Product B</td>\n",
       "      <td>Clothing</td>\n",
       "      <td>3</td>\n",
       "      <td>40</td>\n",
       "      <td>2</td>\n",
       "      <td>Bob</td>\n",
       "    </tr>\n",
       "    <tr>\n",
       "      <th>2</th>\n",
       "      <td>2023-01-02</td>\n",
       "      <td>103</td>\n",
       "      <td>Product C</td>\n",
       "      <td>Electronics</td>\n",
       "      <td>1</td>\n",
       "      <td>600</td>\n",
       "      <td>3</td>\n",
       "      <td>Carol</td>\n",
       "    </tr>\n",
       "    <tr>\n",
       "      <th>3</th>\n",
       "      <td>2023-01-03</td>\n",
       "      <td>101</td>\n",
       "      <td>Product A</td>\n",
       "      <td>Electronics</td>\n",
       "      <td>4</td>\n",
       "      <td>480</td>\n",
       "      <td>1</td>\n",
       "      <td>Alice</td>\n",
       "    </tr>\n",
       "    <tr>\n",
       "      <th>4</th>\n",
       "      <td>2023-01-03</td>\n",
       "      <td>102</td>\n",
       "      <td>Product B</td>\n",
       "      <td>Clothing</td>\n",
       "      <td>2</td>\n",
       "      <td>45</td>\n",
       "      <td>2</td>\n",
       "      <td>Bob</td>\n",
       "    </tr>\n",
       "  </tbody>\n",
       "</table>\n",
       "</div>"
      ],
      "text/plain": [
       "    OrderDate  ProductID ProductName     Category  Quantity  Price  \\\n",
       "0  2023-01-01        101   Product A  Electronics         2    500   \n",
       "1  2023-01-02        102   Product B     Clothing         3     40   \n",
       "2  2023-01-02        103   Product C  Electronics         1    600   \n",
       "3  2023-01-03        101   Product A  Electronics         4    480   \n",
       "4  2023-01-03        102   Product B     Clothing         2     45   \n",
       "\n",
       "   CustomerID CustomerName  \n",
       "0           1        Alice  \n",
       "1           2          Bob  \n",
       "2           3        Carol  \n",
       "3           1        Alice  \n",
       "4           2          Bob  "
      ]
     },
     "execution_count": 13,
     "metadata": {},
     "output_type": "execute_result"
    }
   ],
   "source": [
    "import pandas as pd\n",
    "\n",
    "data = {\n",
    "    'OrderDate': ['2023-01-01', '2023-01-02', '2023-01-02', '2023-01-03', '2023-01-03'],\n",
    "    'ProductID': [101, 102, 103, 101, 102],\n",
    "    'ProductName': ['Product A', 'Product B', 'Product C', 'Product A', 'Product B'],\n",
    "    'Category': ['Electronics', 'Clothing', 'Electronics', 'Electronics', 'Clothing'],\n",
    "    'Quantity': [2, 3, 1, 4, 2],\n",
    "    'Price': [500, 40, 600, 480, 45],\n",
    "    'CustomerID': [1, 2, 3, 1, 2],\n",
    "    'CustomerName': ['Alice', 'Bob', 'Carol', 'Alice', 'Bob']\n",
    "}\n",
    "\n",
    "sales_df = pd.DataFrame(data)\n",
    "sales_df"
   ]
  },
  {
   "cell_type": "code",
   "execution_count": 14,
   "id": "b7bae8f2",
   "metadata": {
    "execution": {
     "iopub.execute_input": "2023-11-02T09:37:03.807806Z",
     "iopub.status.busy": "2023-11-02T09:37:03.807181Z",
     "iopub.status.idle": "2023-11-02T09:37:03.822494Z",
     "shell.execute_reply": "2023-11-02T09:37:03.821406Z"
    },
    "papermill": {
     "duration": 0.027956,
     "end_time": "2023-11-02T09:37:03.825050",
     "exception": false,
     "start_time": "2023-11-02T09:37:03.797094",
     "status": "completed"
    },
    "tags": []
   },
   "outputs": [
    {
     "data": {
      "text/html": [
       "<div>\n",
       "<style scoped>\n",
       "    .dataframe tbody tr th:only-of-type {\n",
       "        vertical-align: middle;\n",
       "    }\n",
       "\n",
       "    .dataframe tbody tr th {\n",
       "        vertical-align: top;\n",
       "    }\n",
       "\n",
       "    .dataframe thead th {\n",
       "        text-align: right;\n",
       "    }\n",
       "</style>\n",
       "<table border=\"1\" class=\"dataframe\">\n",
       "  <thead>\n",
       "    <tr style=\"text-align: right;\">\n",
       "      <th></th>\n",
       "      <th>OrderDate</th>\n",
       "      <th>ProductID</th>\n",
       "      <th>ProductName</th>\n",
       "      <th>Category</th>\n",
       "      <th>Quantity</th>\n",
       "      <th>Price</th>\n",
       "      <th>CustomerID</th>\n",
       "      <th>CustomerName</th>\n",
       "      <th>Total Revenue</th>\n",
       "    </tr>\n",
       "  </thead>\n",
       "  <tbody>\n",
       "    <tr>\n",
       "      <th>0</th>\n",
       "      <td>2023-01-01</td>\n",
       "      <td>101</td>\n",
       "      <td>Product A</td>\n",
       "      <td>Electronics</td>\n",
       "      <td>2</td>\n",
       "      <td>500</td>\n",
       "      <td>1</td>\n",
       "      <td>Alice</td>\n",
       "      <td>1000</td>\n",
       "    </tr>\n",
       "    <tr>\n",
       "      <th>1</th>\n",
       "      <td>2023-01-02</td>\n",
       "      <td>102</td>\n",
       "      <td>Product B</td>\n",
       "      <td>Clothing</td>\n",
       "      <td>3</td>\n",
       "      <td>40</td>\n",
       "      <td>2</td>\n",
       "      <td>Bob</td>\n",
       "      <td>120</td>\n",
       "    </tr>\n",
       "    <tr>\n",
       "      <th>2</th>\n",
       "      <td>2023-01-02</td>\n",
       "      <td>103</td>\n",
       "      <td>Product C</td>\n",
       "      <td>Electronics</td>\n",
       "      <td>1</td>\n",
       "      <td>600</td>\n",
       "      <td>3</td>\n",
       "      <td>Carol</td>\n",
       "      <td>600</td>\n",
       "    </tr>\n",
       "    <tr>\n",
       "      <th>3</th>\n",
       "      <td>2023-01-03</td>\n",
       "      <td>101</td>\n",
       "      <td>Product A</td>\n",
       "      <td>Electronics</td>\n",
       "      <td>4</td>\n",
       "      <td>480</td>\n",
       "      <td>1</td>\n",
       "      <td>Alice</td>\n",
       "      <td>1920</td>\n",
       "    </tr>\n",
       "    <tr>\n",
       "      <th>4</th>\n",
       "      <td>2023-01-03</td>\n",
       "      <td>102</td>\n",
       "      <td>Product B</td>\n",
       "      <td>Clothing</td>\n",
       "      <td>2</td>\n",
       "      <td>45</td>\n",
       "      <td>2</td>\n",
       "      <td>Bob</td>\n",
       "      <td>90</td>\n",
       "    </tr>\n",
       "  </tbody>\n",
       "</table>\n",
       "</div>"
      ],
      "text/plain": [
       "    OrderDate  ProductID ProductName     Category  Quantity  Price  \\\n",
       "0  2023-01-01        101   Product A  Electronics         2    500   \n",
       "1  2023-01-02        102   Product B     Clothing         3     40   \n",
       "2  2023-01-02        103   Product C  Electronics         1    600   \n",
       "3  2023-01-03        101   Product A  Electronics         4    480   \n",
       "4  2023-01-03        102   Product B     Clothing         2     45   \n",
       "\n",
       "   CustomerID CustomerName  Total Revenue  \n",
       "0           1        Alice           1000  \n",
       "1           2          Bob            120  \n",
       "2           3        Carol            600  \n",
       "3           1        Alice           1920  \n",
       "4           2          Bob             90  "
      ]
     },
     "execution_count": 14,
     "metadata": {},
     "output_type": "execute_result"
    }
   ],
   "source": [
    "# a) Calculate and print the total revenue generated from these sales.\n",
    "\n",
    "sales_df['Total Revenue'] = sales_df['Price']*sales_df['Quantity']\n",
    "sales_df"
   ]
  },
  {
   "cell_type": "code",
   "execution_count": 15,
   "id": "19c4c0a0",
   "metadata": {
    "execution": {
     "iopub.execute_input": "2023-11-02T09:37:03.844200Z",
     "iopub.status.busy": "2023-11-02T09:37:03.843801Z",
     "iopub.status.idle": "2023-11-02T09:37:03.860583Z",
     "shell.execute_reply": "2023-11-02T09:37:03.859322Z"
    },
    "papermill": {
     "duration": 0.028855,
     "end_time": "2023-11-02T09:37:03.862730",
     "exception": false,
     "start_time": "2023-11-02T09:37:03.833875",
     "status": "completed"
    },
    "tags": []
   },
   "outputs": [
    {
     "name": "stdout",
     "output_type": "stream",
     "text": [
      "Top 5 Products by Revenue:\n",
      "  ProductName  Total Revenue\n",
      "0   Product A           2920\n",
      "2   Product C            600\n",
      "1   Product B            210\n"
     ]
    }
   ],
   "source": [
    "# b) Find and print the top 5 products by revenue.\n",
    "\n",
    "product_revenue = sales_df.groupby('ProductName')['Total Revenue'].sum().reset_index()\n",
    "top_5_products = product_revenue.sort_values(by='Total Revenue', ascending=False).head(5)\n",
    "print(\"Top 5 Products by Revenue:\")\n",
    "print(top_5_products)"
   ]
  },
  {
   "cell_type": "code",
   "execution_count": 16,
   "id": "dd36b3a8",
   "metadata": {
    "execution": {
     "iopub.execute_input": "2023-11-02T09:37:03.882355Z",
     "iopub.status.busy": "2023-11-02T09:37:03.881380Z",
     "iopub.status.idle": "2023-11-02T09:37:03.893441Z",
     "shell.execute_reply": "2023-11-02T09:37:03.892326Z"
    },
    "papermill": {
     "duration": 0.023934,
     "end_time": "2023-11-02T09:37:03.895430",
     "exception": false,
     "start_time": "2023-11-02T09:37:03.871496",
     "status": "completed"
    },
    "tags": []
   },
   "outputs": [
    {
     "data": {
      "text/html": [
       "<div>\n",
       "<style scoped>\n",
       "    .dataframe tbody tr th:only-of-type {\n",
       "        vertical-align: middle;\n",
       "    }\n",
       "\n",
       "    .dataframe tbody tr th {\n",
       "        vertical-align: top;\n",
       "    }\n",
       "\n",
       "    .dataframe thead th {\n",
       "        text-align: right;\n",
       "    }\n",
       "</style>\n",
       "<table border=\"1\" class=\"dataframe\">\n",
       "  <thead>\n",
       "    <tr style=\"text-align: right;\">\n",
       "      <th></th>\n",
       "      <th>CustomerName</th>\n",
       "      <th>Total Revenue</th>\n",
       "    </tr>\n",
       "  </thead>\n",
       "  <tbody>\n",
       "    <tr>\n",
       "      <th>0</th>\n",
       "      <td>Alice</td>\n",
       "      <td>2920</td>\n",
       "    </tr>\n",
       "  </tbody>\n",
       "</table>\n",
       "</div>"
      ],
      "text/plain": [
       "  CustomerName  Total Revenue\n",
       "0        Alice           2920"
      ]
     },
     "execution_count": 16,
     "metadata": {},
     "output_type": "execute_result"
    }
   ],
   "source": [
    "# c) Identify the customer(s) with the highest total spending and print their names.\n",
    "\n",
    "customer_spending = sales_df.groupby('CustomerName')['Total Revenue'].sum().reset_index()\n",
    "highest_spending = customer_spending[customer_spending['Total Revenue']== customer_spending['Total Revenue'].max()]\n",
    "highest_spending"
   ]
  },
  {
   "cell_type": "markdown",
   "id": "eb2afa10",
   "metadata": {
    "papermill": {
     "duration": 0.008619,
     "end_time": "2023-11-02T09:37:03.912749",
     "exception": false,
     "start_time": "2023-11-02T09:37:03.904130",
     "status": "completed"
    },
    "tags": []
   },
   "source": [
    "# Exercise 4: Weather Data Analysis"
   ]
  },
  {
   "cell_type": "code",
   "execution_count": 17,
   "id": "d9da2d82",
   "metadata": {
    "execution": {
     "iopub.execute_input": "2023-11-02T09:37:03.932663Z",
     "iopub.status.busy": "2023-11-02T09:37:03.931778Z",
     "iopub.status.idle": "2023-11-02T09:37:03.945499Z",
     "shell.execute_reply": "2023-11-02T09:37:03.944583Z"
    },
    "papermill": {
     "duration": 0.026268,
     "end_time": "2023-11-02T09:37:03.947807",
     "exception": false,
     "start_time": "2023-11-02T09:37:03.921539",
     "status": "completed"
    },
    "tags": []
   },
   "outputs": [
    {
     "data": {
      "text/html": [
       "<div>\n",
       "<style scoped>\n",
       "    .dataframe tbody tr th:only-of-type {\n",
       "        vertical-align: middle;\n",
       "    }\n",
       "\n",
       "    .dataframe tbody tr th {\n",
       "        vertical-align: top;\n",
       "    }\n",
       "\n",
       "    .dataframe thead th {\n",
       "        text-align: right;\n",
       "    }\n",
       "</style>\n",
       "<table border=\"1\" class=\"dataframe\">\n",
       "  <thead>\n",
       "    <tr style=\"text-align: right;\">\n",
       "      <th></th>\n",
       "      <th>Date</th>\n",
       "      <th>Temperature</th>\n",
       "      <th>Precipitation</th>\n",
       "      <th>Humidity</th>\n",
       "      <th>WindSpeed</th>\n",
       "    </tr>\n",
       "  </thead>\n",
       "  <tbody>\n",
       "    <tr>\n",
       "      <th>0</th>\n",
       "      <td>2023-01-01</td>\n",
       "      <td>15</td>\n",
       "      <td>0.2</td>\n",
       "      <td>65</td>\n",
       "      <td>10</td>\n",
       "    </tr>\n",
       "    <tr>\n",
       "      <th>1</th>\n",
       "      <td>2023-01-02</td>\n",
       "      <td>18</td>\n",
       "      <td>0.0</td>\n",
       "      <td>70</td>\n",
       "      <td>8</td>\n",
       "    </tr>\n",
       "    <tr>\n",
       "      <th>2</th>\n",
       "      <td>2023-01-03</td>\n",
       "      <td>20</td>\n",
       "      <td>0.5</td>\n",
       "      <td>75</td>\n",
       "      <td>12</td>\n",
       "    </tr>\n",
       "    <tr>\n",
       "      <th>3</th>\n",
       "      <td>2023-02-01</td>\n",
       "      <td>10</td>\n",
       "      <td>0.0</td>\n",
       "      <td>55</td>\n",
       "      <td>14</td>\n",
       "    </tr>\n",
       "    <tr>\n",
       "      <th>4</th>\n",
       "      <td>2023-02-02</td>\n",
       "      <td>12</td>\n",
       "      <td>0.8</td>\n",
       "      <td>60</td>\n",
       "      <td>10</td>\n",
       "    </tr>\n",
       "  </tbody>\n",
       "</table>\n",
       "</div>"
      ],
      "text/plain": [
       "         Date  Temperature  Precipitation  Humidity  WindSpeed\n",
       "0  2023-01-01           15            0.2        65         10\n",
       "1  2023-01-02           18            0.0        70          8\n",
       "2  2023-01-03           20            0.5        75         12\n",
       "3  2023-02-01           10            0.0        55         14\n",
       "4  2023-02-02           12            0.8        60         10"
      ]
     },
     "execution_count": 17,
     "metadata": {},
     "output_type": "execute_result"
    }
   ],
   "source": [
    "import pandas as pd\n",
    "\n",
    "data = {\n",
    "    'Date': ['2023-01-01', '2023-01-02', '2023-01-03', '2023-02-01', '2023-02-02'],\n",
    "    'Temperature': [15, 18, 20, 10, 12],\n",
    "    'Precipitation': [0.2, 0.0, 0.5, 0.0, 0.8],\n",
    "    'Humidity': [65, 70, 75, 55, 60],\n",
    "    'WindSpeed': [10, 8, 12, 14, 10]\n",
    "}\n",
    "\n",
    "weather_df = pd.DataFrame(data)\n",
    "weather_df"
   ]
  },
  {
   "cell_type": "code",
   "execution_count": 18,
   "id": "5f2a921e",
   "metadata": {
    "execution": {
     "iopub.execute_input": "2023-11-02T09:37:03.967712Z",
     "iopub.status.busy": "2023-11-02T09:37:03.967334Z",
     "iopub.status.idle": "2023-11-02T09:37:03.983890Z",
     "shell.execute_reply": "2023-11-02T09:37:03.982863Z"
    },
    "papermill": {
     "duration": 0.028984,
     "end_time": "2023-11-02T09:37:03.986023",
     "exception": false,
     "start_time": "2023-11-02T09:37:03.957039",
     "status": "completed"
    },
    "tags": []
   },
   "outputs": [
    {
     "data": {
      "text/html": [
       "<div>\n",
       "<style scoped>\n",
       "    .dataframe tbody tr th:only-of-type {\n",
       "        vertical-align: middle;\n",
       "    }\n",
       "\n",
       "    .dataframe tbody tr th {\n",
       "        vertical-align: top;\n",
       "    }\n",
       "\n",
       "    .dataframe thead th {\n",
       "        text-align: right;\n",
       "    }\n",
       "</style>\n",
       "<table border=\"1\" class=\"dataframe\">\n",
       "  <thead>\n",
       "    <tr style=\"text-align: right;\">\n",
       "      <th></th>\n",
       "      <th>Month</th>\n",
       "      <th>Temperature</th>\n",
       "    </tr>\n",
       "  </thead>\n",
       "  <tbody>\n",
       "    <tr>\n",
       "      <th>0</th>\n",
       "      <td>1</td>\n",
       "      <td>17.666667</td>\n",
       "    </tr>\n",
       "    <tr>\n",
       "      <th>1</th>\n",
       "      <td>2</td>\n",
       "      <td>11.000000</td>\n",
       "    </tr>\n",
       "  </tbody>\n",
       "</table>\n",
       "</div>"
      ],
      "text/plain": [
       "   Month  Temperature\n",
       "0      1    17.666667\n",
       "1      2    11.000000"
      ]
     },
     "execution_count": 18,
     "metadata": {},
     "output_type": "execute_result"
    }
   ],
   "source": [
    "# a) Calculate and print the average temperature for each month.\n",
    "\n",
    "\n",
    "\n",
    "# Extract the month from the 'Date' column\n",
    "weather_df['Month'] = pd.to_datetime(weather_df['Date']).dt.month\n",
    "\n",
    "# Calculate and print the average temperature for each month\n",
    "average_temp = weather_df.groupby('Month')['Temperature'].mean().reset_index()\n",
    "average_temp\n"
   ]
  },
  {
   "cell_type": "code",
   "execution_count": 19,
   "id": "d15db207",
   "metadata": {
    "execution": {
     "iopub.execute_input": "2023-11-02T09:37:04.007341Z",
     "iopub.status.busy": "2023-11-02T09:37:04.006671Z",
     "iopub.status.idle": "2023-11-02T09:37:04.019349Z",
     "shell.execute_reply": "2023-11-02T09:37:04.017863Z"
    },
    "papermill": {
     "duration": 0.026196,
     "end_time": "2023-11-02T09:37:04.021607",
     "exception": false,
     "start_time": "2023-11-02T09:37:03.995411",
     "status": "completed"
    },
    "tags": []
   },
   "outputs": [
    {
     "data": {
      "text/html": [
       "<div>\n",
       "<style scoped>\n",
       "    .dataframe tbody tr th:only-of-type {\n",
       "        vertical-align: middle;\n",
       "    }\n",
       "\n",
       "    .dataframe tbody tr th {\n",
       "        vertical-align: top;\n",
       "    }\n",
       "\n",
       "    .dataframe thead th {\n",
       "        text-align: right;\n",
       "    }\n",
       "</style>\n",
       "<table border=\"1\" class=\"dataframe\">\n",
       "  <thead>\n",
       "    <tr style=\"text-align: right;\">\n",
       "      <th></th>\n",
       "      <th>Date</th>\n",
       "      <th>Temperature</th>\n",
       "      <th>Precipitation</th>\n",
       "      <th>Humidity</th>\n",
       "      <th>WindSpeed</th>\n",
       "      <th>Month</th>\n",
       "    </tr>\n",
       "  </thead>\n",
       "  <tbody>\n",
       "    <tr>\n",
       "      <th>4</th>\n",
       "      <td>2023-02-02</td>\n",
       "      <td>12</td>\n",
       "      <td>0.8</td>\n",
       "      <td>60</td>\n",
       "      <td>10</td>\n",
       "      <td>2</td>\n",
       "    </tr>\n",
       "  </tbody>\n",
       "</table>\n",
       "</div>"
      ],
      "text/plain": [
       "         Date  Temperature  Precipitation  Humidity  WindSpeed  Month\n",
       "4  2023-02-02           12            0.8        60         10      2"
      ]
     },
     "execution_count": 19,
     "metadata": {},
     "output_type": "execute_result"
    }
   ],
   "source": [
    "# b) Find and print the days with the highest precipitation (rainy days).\n",
    "\n",
    "\n",
    "highest_precipitation = weather_df[weather_df['Precipitation'] == weather_df['Precipitation'].max()]\n",
    "highest_precipitation"
   ]
  },
  {
   "cell_type": "code",
   "execution_count": 20,
   "id": "8a920a56",
   "metadata": {
    "execution": {
     "iopub.execute_input": "2023-11-02T09:37:04.042797Z",
     "iopub.status.busy": "2023-11-02T09:37:04.042168Z",
     "iopub.status.idle": "2023-11-02T09:37:04.056174Z",
     "shell.execute_reply": "2023-11-02T09:37:04.054570Z"
    },
    "papermill": {
     "duration": 0.027172,
     "end_time": "2023-11-02T09:37:04.058427",
     "exception": false,
     "start_time": "2023-11-02T09:37:04.031255",
     "status": "completed"
    },
    "tags": []
   },
   "outputs": [
    {
     "data": {
      "text/html": [
       "<div>\n",
       "<style scoped>\n",
       "    .dataframe tbody tr th:only-of-type {\n",
       "        vertical-align: middle;\n",
       "    }\n",
       "\n",
       "    .dataframe tbody tr th {\n",
       "        vertical-align: top;\n",
       "    }\n",
       "\n",
       "    .dataframe thead th {\n",
       "        text-align: right;\n",
       "    }\n",
       "</style>\n",
       "<table border=\"1\" class=\"dataframe\">\n",
       "  <thead>\n",
       "    <tr style=\"text-align: right;\">\n",
       "      <th></th>\n",
       "      <th>Month</th>\n",
       "      <th>WindSpeed</th>\n",
       "    </tr>\n",
       "  </thead>\n",
       "  <tbody>\n",
       "    <tr>\n",
       "      <th>1</th>\n",
       "      <td>2</td>\n",
       "      <td>12.0</td>\n",
       "    </tr>\n",
       "  </tbody>\n",
       "</table>\n",
       "</div>"
      ],
      "text/plain": [
       "   Month  WindSpeed\n",
       "1      2       12.0"
      ]
     },
     "execution_count": 20,
     "metadata": {},
     "output_type": "execute_result"
    }
   ],
   "source": [
    " # c) Identify and print the months with the highest average wind speed.\n",
    "\n",
    "\n",
    "# Extract the month from the 'Date' column\n",
    "weather_df['Month'] = pd.to_datetime(weather_df['Date']).dt.month\n",
    "\n",
    "# Calculate the average wind speed for each month\n",
    "average_wind_speed = weather_df.groupby('Month')['WindSpeed'].mean().reset_index()\n",
    "\n",
    "# Find and print the months with the highest average wind speed\n",
    "highest_avg_wind_speed = average_wind_speed[average_wind_speed['WindSpeed'] == average_wind_speed['WindSpeed'].max()]\n",
    "highest_avg_wind_speed\n"
   ]
  },
  {
   "cell_type": "markdown",
   "id": "c01a74f2",
   "metadata": {
    "papermill": {
     "duration": 0.009121,
     "end_time": "2023-11-02T09:37:04.077219",
     "exception": false,
     "start_time": "2023-11-02T09:37:04.068098",
     "status": "completed"
    },
    "tags": []
   },
   "source": [
    "# Exercise 5: Stock Market Analysis"
   ]
  },
  {
   "cell_type": "code",
   "execution_count": 21,
   "id": "e15569e3",
   "metadata": {
    "execution": {
     "iopub.execute_input": "2023-11-02T09:37:04.098668Z",
     "iopub.status.busy": "2023-11-02T09:37:04.098093Z",
     "iopub.status.idle": "2023-11-02T09:37:04.110569Z",
     "shell.execute_reply": "2023-11-02T09:37:04.109581Z"
    },
    "papermill": {
     "duration": 0.025734,
     "end_time": "2023-11-02T09:37:04.112757",
     "exception": false,
     "start_time": "2023-11-02T09:37:04.087023",
     "status": "completed"
    },
    "tags": []
   },
   "outputs": [
    {
     "data": {
      "text/html": [
       "<div>\n",
       "<style scoped>\n",
       "    .dataframe tbody tr th:only-of-type {\n",
       "        vertical-align: middle;\n",
       "    }\n",
       "\n",
       "    .dataframe tbody tr th {\n",
       "        vertical-align: top;\n",
       "    }\n",
       "\n",
       "    .dataframe thead th {\n",
       "        text-align: right;\n",
       "    }\n",
       "</style>\n",
       "<table border=\"1\" class=\"dataframe\">\n",
       "  <thead>\n",
       "    <tr style=\"text-align: right;\">\n",
       "      <th></th>\n",
       "      <th>Date</th>\n",
       "      <th>Company</th>\n",
       "      <th>StockPrice</th>\n",
       "      <th>Volume</th>\n",
       "      <th>MarketCap</th>\n",
       "    </tr>\n",
       "  </thead>\n",
       "  <tbody>\n",
       "    <tr>\n",
       "      <th>0</th>\n",
       "      <td>2023-01-01</td>\n",
       "      <td>Company A</td>\n",
       "      <td>100</td>\n",
       "      <td>10000</td>\n",
       "      <td>500000</td>\n",
       "    </tr>\n",
       "    <tr>\n",
       "      <th>1</th>\n",
       "      <td>2023-01-01</td>\n",
       "      <td>Company B</td>\n",
       "      <td>50</td>\n",
       "      <td>8000</td>\n",
       "      <td>400000</td>\n",
       "    </tr>\n",
       "    <tr>\n",
       "      <th>2</th>\n",
       "      <td>2023-01-02</td>\n",
       "      <td>Company A</td>\n",
       "      <td>102</td>\n",
       "      <td>12000</td>\n",
       "      <td>510000</td>\n",
       "    </tr>\n",
       "    <tr>\n",
       "      <th>3</th>\n",
       "      <td>2023-01-02</td>\n",
       "      <td>Company B</td>\n",
       "      <td>48</td>\n",
       "      <td>9000</td>\n",
       "      <td>480000</td>\n",
       "    </tr>\n",
       "    <tr>\n",
       "      <th>4</th>\n",
       "      <td>2023-01-03</td>\n",
       "      <td>Company A</td>\n",
       "      <td>105</td>\n",
       "      <td>15000</td>\n",
       "      <td>520000</td>\n",
       "    </tr>\n",
       "  </tbody>\n",
       "</table>\n",
       "</div>"
      ],
      "text/plain": [
       "         Date    Company  StockPrice  Volume  MarketCap\n",
       "0  2023-01-01  Company A         100   10000     500000\n",
       "1  2023-01-01  Company B          50    8000     400000\n",
       "2  2023-01-02  Company A         102   12000     510000\n",
       "3  2023-01-02  Company B          48    9000     480000\n",
       "4  2023-01-03  Company A         105   15000     520000"
      ]
     },
     "execution_count": 21,
     "metadata": {},
     "output_type": "execute_result"
    }
   ],
   "source": [
    "import pandas as pd\n",
    "\n",
    "data = {\n",
    "    'Date': ['2023-01-01', '2023-01-01', '2023-01-02', '2023-01-02', '2023-01-03'],\n",
    "    'Company': ['Company A', 'Company B', 'Company A', 'Company B', 'Company A'],\n",
    "    'StockPrice': [100, 50, 102, 48, 105],\n",
    "    'Volume': [10000, 8000, 12000, 9000, 15000],\n",
    "    'MarketCap': [500000, 400000, 510000, 480000, 520000]\n",
    "}\n",
    "\n",
    "stock_df = pd.DataFrame(data)\n",
    "stock_df"
   ]
  },
  {
   "cell_type": "code",
   "execution_count": 22,
   "id": "b80654c4",
   "metadata": {
    "execution": {
     "iopub.execute_input": "2023-11-02T09:37:04.134679Z",
     "iopub.status.busy": "2023-11-02T09:37:04.134124Z",
     "iopub.status.idle": "2023-11-02T09:37:04.145158Z",
     "shell.execute_reply": "2023-11-02T09:37:04.144018Z"
    },
    "papermill": {
     "duration": 0.024438,
     "end_time": "2023-11-02T09:37:04.147521",
     "exception": false,
     "start_time": "2023-11-02T09:37:04.123083",
     "status": "completed"
    },
    "tags": []
   },
   "outputs": [
    {
     "data": {
      "text/html": [
       "<div>\n",
       "<style scoped>\n",
       "    .dataframe tbody tr th:only-of-type {\n",
       "        vertical-align: middle;\n",
       "    }\n",
       "\n",
       "    .dataframe tbody tr th {\n",
       "        vertical-align: top;\n",
       "    }\n",
       "\n",
       "    .dataframe thead th {\n",
       "        text-align: right;\n",
       "    }\n",
       "</style>\n",
       "<table border=\"1\" class=\"dataframe\">\n",
       "  <thead>\n",
       "    <tr style=\"text-align: right;\">\n",
       "      <th></th>\n",
       "      <th>Date</th>\n",
       "      <th>Company</th>\n",
       "      <th>StockPrice</th>\n",
       "      <th>Volume</th>\n",
       "      <th>MarketCap</th>\n",
       "    </tr>\n",
       "  </thead>\n",
       "  <tbody>\n",
       "    <tr>\n",
       "      <th>0</th>\n",
       "      <td>2023-01-01</td>\n",
       "      <td>Company A</td>\n",
       "      <td>100</td>\n",
       "      <td>10000</td>\n",
       "      <td>500000</td>\n",
       "    </tr>\n",
       "    <tr>\n",
       "      <th>1</th>\n",
       "      <td>2023-01-01</td>\n",
       "      <td>Company B</td>\n",
       "      <td>50</td>\n",
       "      <td>8000</td>\n",
       "      <td>400000</td>\n",
       "    </tr>\n",
       "    <tr>\n",
       "      <th>2</th>\n",
       "      <td>2023-01-02</td>\n",
       "      <td>Company A</td>\n",
       "      <td>102</td>\n",
       "      <td>12000</td>\n",
       "      <td>510000</td>\n",
       "    </tr>\n",
       "    <tr>\n",
       "      <th>3</th>\n",
       "      <td>2023-01-02</td>\n",
       "      <td>Company B</td>\n",
       "      <td>48</td>\n",
       "      <td>9000</td>\n",
       "      <td>480000</td>\n",
       "    </tr>\n",
       "    <tr>\n",
       "      <th>4</th>\n",
       "      <td>2023-01-03</td>\n",
       "      <td>Company A</td>\n",
       "      <td>105</td>\n",
       "      <td>15000</td>\n",
       "      <td>520000</td>\n",
       "    </tr>\n",
       "  </tbody>\n",
       "</table>\n",
       "</div>"
      ],
      "text/plain": [
       "        Date    Company  StockPrice  Volume  MarketCap\n",
       "0 2023-01-01  Company A         100   10000     500000\n",
       "1 2023-01-01  Company B          50    8000     400000\n",
       "2 2023-01-02  Company A         102   12000     510000\n",
       "3 2023-01-02  Company B          48    9000     480000\n",
       "4 2023-01-03  Company A         105   15000     520000"
      ]
     },
     "execution_count": 22,
     "metadata": {},
     "output_type": "execute_result"
    }
   ],
   "source": [
    "stock_df['Date']= pd.to_datetime(stock_df['Date'])\n",
    "stock_df"
   ]
  },
  {
   "cell_type": "code",
   "execution_count": 23,
   "id": "d8aba5e2",
   "metadata": {
    "execution": {
     "iopub.execute_input": "2023-11-02T09:37:04.169170Z",
     "iopub.status.busy": "2023-11-02T09:37:04.168803Z",
     "iopub.status.idle": "2023-11-02T09:37:04.179209Z",
     "shell.execute_reply": "2023-11-02T09:37:04.178397Z"
    },
    "papermill": {
     "duration": 0.023392,
     "end_time": "2023-11-02T09:37:04.181207",
     "exception": false,
     "start_time": "2023-11-02T09:37:04.157815",
     "status": "completed"
    },
    "tags": []
   },
   "outputs": [
    {
     "data": {
      "text/html": [
       "<div>\n",
       "<style scoped>\n",
       "    .dataframe tbody tr th:only-of-type {\n",
       "        vertical-align: middle;\n",
       "    }\n",
       "\n",
       "    .dataframe tbody tr th {\n",
       "        vertical-align: top;\n",
       "    }\n",
       "\n",
       "    .dataframe thead th {\n",
       "        text-align: right;\n",
       "    }\n",
       "</style>\n",
       "<table border=\"1\" class=\"dataframe\">\n",
       "  <thead>\n",
       "    <tr style=\"text-align: right;\">\n",
       "      <th></th>\n",
       "      <th>Company</th>\n",
       "      <th>Volume</th>\n",
       "    </tr>\n",
       "  </thead>\n",
       "  <tbody>\n",
       "    <tr>\n",
       "      <th>0</th>\n",
       "      <td>Company A</td>\n",
       "      <td>37000</td>\n",
       "    </tr>\n",
       "    <tr>\n",
       "      <th>1</th>\n",
       "      <td>Company B</td>\n",
       "      <td>17000</td>\n",
       "    </tr>\n",
       "  </tbody>\n",
       "</table>\n",
       "</div>"
      ],
      "text/plain": [
       "     Company  Volume\n",
       "0  Company A   37000\n",
       "1  Company B   17000"
      ]
     },
     "execution_count": 23,
     "metadata": {},
     "output_type": "execute_result"
    }
   ],
   "source": [
    "# a) Calculate and print the daily trading volume for each company.\n",
    "\n",
    "trading_volume = stock_df.groupby('Company')['Volume'].sum().reset_index()\n",
    "trading_volume"
   ]
  },
  {
   "cell_type": "code",
   "execution_count": 24,
   "id": "13cbe63c",
   "metadata": {
    "execution": {
     "iopub.execute_input": "2023-11-02T09:37:04.202780Z",
     "iopub.status.busy": "2023-11-02T09:37:04.202408Z",
     "iopub.status.idle": "2023-11-02T09:37:04.213583Z",
     "shell.execute_reply": "2023-11-02T09:37:04.212599Z"
    },
    "papermill": {
     "duration": 0.024453,
     "end_time": "2023-11-02T09:37:04.215741",
     "exception": false,
     "start_time": "2023-11-02T09:37:04.191288",
     "status": "completed"
    },
    "tags": []
   },
   "outputs": [
    {
     "data": {
      "text/html": [
       "<div>\n",
       "<style scoped>\n",
       "    .dataframe tbody tr th:only-of-type {\n",
       "        vertical-align: middle;\n",
       "    }\n",
       "\n",
       "    .dataframe tbody tr th {\n",
       "        vertical-align: top;\n",
       "    }\n",
       "\n",
       "    .dataframe thead th {\n",
       "        text-align: right;\n",
       "    }\n",
       "</style>\n",
       "<table border=\"1\" class=\"dataframe\">\n",
       "  <thead>\n",
       "    <tr style=\"text-align: right;\">\n",
       "      <th></th>\n",
       "      <th>Company</th>\n",
       "      <th>MarketCap</th>\n",
       "    </tr>\n",
       "  </thead>\n",
       "  <tbody>\n",
       "    <tr>\n",
       "      <th>0</th>\n",
       "      <td>Company A</td>\n",
       "      <td>1530000</td>\n",
       "    </tr>\n",
       "    <tr>\n",
       "      <th>1</th>\n",
       "      <td>Company B</td>\n",
       "      <td>880000</td>\n",
       "    </tr>\n",
       "  </tbody>\n",
       "</table>\n",
       "</div>"
      ],
      "text/plain": [
       "     Company  MarketCap\n",
       "0  Company A    1530000\n",
       "1  Company B     880000"
      ]
     },
     "execution_count": 24,
     "metadata": {},
     "output_type": "execute_result"
    }
   ],
   "source": [
    "# b) Find and print the company with the highest market capitalization.\n",
    "\n",
    "market_cap = stock_df.groupby('Company')['MarketCap'].sum().reset_index()\n",
    "market_cap"
   ]
  },
  {
   "cell_type": "code",
   "execution_count": 25,
   "id": "9b484896",
   "metadata": {
    "execution": {
     "iopub.execute_input": "2023-11-02T09:37:04.237727Z",
     "iopub.status.busy": "2023-11-02T09:37:04.237367Z",
     "iopub.status.idle": "2023-11-02T09:37:04.249600Z",
     "shell.execute_reply": "2023-11-02T09:37:04.248573Z"
    },
    "papermill": {
     "duration": 0.026588,
     "end_time": "2023-11-02T09:37:04.252596",
     "exception": false,
     "start_time": "2023-11-02T09:37:04.226008",
     "status": "completed"
    },
    "tags": []
   },
   "outputs": [
    {
     "name": "stdout",
     "output_type": "stream",
     "text": [
      "Empty DataFrame\n",
      "Columns: [Date, StockPrice, PriceIncrease]\n",
      "Index: []\n"
     ]
    },
    {
     "name": "stderr",
     "output_type": "stream",
     "text": [
      "/tmp/ipykernel_20/1610129120.py:11: SettingWithCopyWarning: \n",
      "A value is trying to be set on a copy of a slice from a DataFrame.\n",
      "Try using .loc[row_indexer,col_indexer] = value instead\n",
      "\n",
      "See the caveats in the documentation: https://pandas.pydata.org/pandas-docs/stable/user_guide/indexing.html#returning-a-view-versus-a-copy\n",
      "  company_df['PriceIncrease'] = company_df['StockPrice'].pct_change() * 100\n"
     ]
    }
   ],
   "source": [
    "# c) Identify and print the days when a specific company's stock price increased by more than 5%.\n",
    "\n",
    "# Specify the company and the percentage increase threshold\n",
    "company_name = 'Company A'\n",
    "percentage_increase_threshold = 5\n",
    "\n",
    "# Filter the DataFrame for the specific company\n",
    "company_df = stock_df[stock_df['Company'] == company_name]\n",
    "\n",
    "# Calculate the percentage increase in stock price compared to the previous day\n",
    "company_df['PriceIncrease'] = company_df['StockPrice'].pct_change() * 100\n",
    "\n",
    "# Filter the days where the stock price increased by more than 5%\n",
    "increased_days = company_df[company_df['PriceIncrease'] > percentage_increase_threshold]\n",
    "\n",
    "# Print the days when the stock price increased by more than 5%\n",
    "print(increased_days[['Date', 'StockPrice', 'PriceIncrease']])"
   ]
  },
  {
   "cell_type": "code",
   "execution_count": null,
   "id": "c2ef9214",
   "metadata": {
    "papermill": {
     "duration": 0.010053,
     "end_time": "2023-11-02T09:37:04.330043",
     "exception": false,
     "start_time": "2023-11-02T09:37:04.319990",
     "status": "completed"
    },
    "tags": []
   },
   "outputs": [],
   "source": []
  }
 ],
 "metadata": {
  "kernelspec": {
   "display_name": "Python 3",
   "language": "python",
   "name": "python3"
  },
  "language_info": {
   "codemirror_mode": {
    "name": "ipython",
    "version": 3
   },
   "file_extension": ".py",
   "mimetype": "text/x-python",
   "name": "python",
   "nbconvert_exporter": "python",
   "pygments_lexer": "ipython3",
   "version": "3.10.12"
  },
  "papermill": {
   "default_parameters": {},
   "duration": 4.986489,
   "end_time": "2023-11-02T09:37:04.760881",
   "environment_variables": {},
   "exception": null,
   "input_path": "__notebook__.ipynb",
   "output_path": "__notebook__.ipynb",
   "parameters": {},
   "start_time": "2023-11-02T09:36:59.774392",
   "version": "2.4.0"
  }
 },
 "nbformat": 4,
 "nbformat_minor": 5
}
